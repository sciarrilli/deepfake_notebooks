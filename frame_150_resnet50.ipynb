{
 "cells": [
  {
   "cell_type": "code",
   "execution_count": 2,
   "metadata": {},
   "outputs": [],
   "source": [
    "%reload_ext autoreload\n",
    "%autoreload 2\n",
    "%matplotlib inline"
   ]
  },
  {
   "cell_type": "code",
   "execution_count": 3,
   "metadata": {},
   "outputs": [],
   "source": [
    "import torch\n",
    "import torch.nn as nn\n",
    "import torch.nn.functional as F\n",
    "import torch.utils.data as data\n",
    "import torch.optim as optim\n",
    "from torch.optim import lr_scheduler\n",
    "from torch.autograd import Variable\n",
    "from torch.utils.data import Dataset\n",
    "from torch.utils.data.sampler import SubsetRandomSampler\n",
    "\n",
    "import torchvision\n",
    "import torchvision.transforms.functional as t_F\n",
    "import torchvision.models as models\n",
    "from torchvision import datasets, models, transforms\n",
    "\n",
    "import cv2\n",
    "import numpy as np\n",
    "import pandas as pd\n",
    "import json\n",
    "import os\n",
    "import shutil\n",
    "import copy\n",
    "import time\n",
    "import random\n",
    "\n",
    "import matplotlib.pyplot as plt\n",
    "from sklearn.model_selection import train_test_split\n",
    "from sklearn.preprocessing import OneHotEncoder, LabelEncoder\n",
    "from sklearn.metrics import accuracy_score\n",
    "\n",
    "plt.ion()   # interactive mode"
   ]
  },
  {
   "cell_type": "code",
   "execution_count": 4,
   "metadata": {},
   "outputs": [],
   "source": [
    "data_dir = '/home/ec2-user/SageMaker/data/deepfake/frame_150/'"
   ]
  },
  {
   "cell_type": "code",
   "execution_count": 5,
   "metadata": {},
   "outputs": [],
   "source": [
    "# training folders\n",
    "train_data_dir = '/home/ec2-user/SageMaker/data/deepfake/frame_150/train'\n",
    "#train_fake_dir = '/home/ec2-user/SageMaker/data/deepfake/frame_150/train/fake'\n",
    "#train_real_dir = '/home/ec2-user/SageMaker/data/deepfake/frame_150/train/real'"
   ]
  },
  {
   "cell_type": "code",
   "execution_count": 6,
   "metadata": {},
   "outputs": [],
   "source": [
    "# validation folders\n",
    "val_data_dir = '/home/ec2-user/SageMaker/data/deepfake/frame_150/val'\n",
    "#val_fake_dir = '/home/ec2-user/SageMaker/data/deepfake/frame_150/val/fake'\n",
    "#val_real_dir = '/home/ec2-user/SageMaker/data/deepfake/frame_150/val/real'"
   ]
  },
  {
   "cell_type": "code",
   "execution_count": 7,
   "metadata": {},
   "outputs": [
    {
     "data": {
      "text/plain": [
       "62356"
      ]
     },
     "execution_count": 7,
     "metadata": {},
     "output_type": "execute_result"
    }
   ],
   "source": [
    "len(os.listdir(train_fake_dir))"
   ]
  },
  {
   "cell_type": "code",
   "execution_count": 8,
   "metadata": {},
   "outputs": [
    {
     "data": {
      "text/plain": [
       "12963"
      ]
     },
     "execution_count": 8,
     "metadata": {},
     "output_type": "execute_result"
    }
   ],
   "source": [
    "len(os.listdir(train_real_dir))"
   ]
  },
  {
   "cell_type": "code",
   "execution_count": 16,
   "metadata": {},
   "outputs": [
    {
     "data": {
      "text/plain": [
       "75319"
      ]
     },
     "execution_count": 16,
     "metadata": {},
     "output_type": "execute_result"
    }
   ],
   "source": [
    "len(os.listdir(train_fake_dir)) + len(os.listdir(train_real_dir))"
   ]
  },
  {
   "cell_type": "code",
   "execution_count": 9,
   "metadata": {},
   "outputs": [
    {
     "data": {
      "text/plain": [
       "'eyekesnzuh_150.jpg'"
      ]
     },
     "execution_count": 9,
     "metadata": {},
     "output_type": "execute_result"
    }
   ],
   "source": [
    "os.listdir(train_real_dir)[0]"
   ]
  },
  {
   "cell_type": "code",
   "execution_count": 225,
   "metadata": {},
   "outputs": [],
   "source": [
    "'''\n",
    "# ONLY USED TO SPLIT VALIDATION DATA\n",
    "\n",
    "# move 20% of the images to the val folders for validation\n",
    "# take the len of files in the real dir and * .20 and shuffle the list and shutil move the files\n",
    "real_image_list = []\n",
    "for image in os.listdir(train_real_dir):\n",
    "    real_image_list.append(os.path.join(train_real_dir, image))\n",
    "    \n",
    "\n",
    "fake_image_list = []\n",
    "for image in os.listdir(train_fake_dir):\n",
    "    fake_image_list.append(os.path.join(train_fake_dir, image))\n",
    "    \n",
    "    \n",
    "# shuffle the real_image_list\n",
    "random_seed = 42\n",
    "np.random.seed(random_seed)\n",
    "np.random.shuffle(real_image_list) \n",
    "\n",
    "np.random.shuffle(fake_image_list)\n",
    "\n",
    "\n",
    "# split 20% of the images and move them to the val folder\n",
    "# real images\n",
    "val_split_real_images = int(len(real_image_list) * .20)\n",
    "for image in real_image_list[-val_split_real_images:]:\n",
    "    src = image\n",
    "    fname = image.split('/')[-1]\n",
    "    dst = os.path.join(val_real_dir, fname)\n",
    "    shutil.move(src, dst)\n",
    "    \n",
    "\n",
    "# fake images\n",
    "val_split_fake_images = int(len(fake_image_list) * .20)\n",
    "for image in fake_image_list[-val_split_fake_images:]:\n",
    "    src = image\n",
    "    fname = image.split('/')[-1]\n",
    "    dst = os.path.join(val_fake_dir, fname)\n",
    "    shutil.move(src, dst)   \n",
    "    \n",
    "'''"
   ]
  },
  {
   "cell_type": "code",
   "execution_count": 34,
   "metadata": {},
   "outputs": [],
   "source": [
    "batch_size = 50"
   ]
  },
  {
   "cell_type": "code",
   "execution_count": 11,
   "metadata": {},
   "outputs": [],
   "source": [
    "data_transforms = {\n",
    "    'train': transforms.Compose([transforms.ToTensor(),\n",
    "                                 transforms.Normalize(mean=[0.485, 0.456, 0.406], std=[0.229, 0.224, 0.225])]),\n",
    "    'val': transforms.Compose([transforms.ToTensor(),\n",
    "                                 transforms.Normalize(mean=[0.485, 0.456, 0.406], std=[0.229, 0.224, 0.225])])  \n",
    "}\n",
    "\n",
    "image_datasets = {'train': datasets.ImageFolder(train_data_dir, data_transforms['train']),\n",
    "                  'val': datasets.ImageFolder(val_data_dir, data_transforms['val'])\n",
    "               }"
   ]
  },
  {
   "cell_type": "code",
   "execution_count": 51,
   "metadata": {},
   "outputs": [
    {
     "data": {
      "text/plain": [
       "75319"
      ]
     },
     "execution_count": 51,
     "metadata": {},
     "output_type": "execute_result"
    }
   ],
   "source": [
    "len(image_datasets['train'].imgs)"
   ]
  },
  {
   "cell_type": "code",
   "execution_count": 52,
   "metadata": {},
   "outputs": [
    {
     "data": {
      "text/plain": [
       "18828"
      ]
     },
     "execution_count": 52,
     "metadata": {},
     "output_type": "execute_result"
    }
   ],
   "source": [
    "len(image_datasets['val'].imgs)"
   ]
  },
  {
   "cell_type": "code",
   "execution_count": 53,
   "metadata": {},
   "outputs": [
    {
     "data": {
      "text/plain": [
       "94147"
      ]
     },
     "execution_count": 53,
     "metadata": {},
     "output_type": "execute_result"
    }
   ],
   "source": [
    "len(image_datasets['train'].imgs) + len(image_datasets['val'].imgs)"
   ]
  },
  {
   "cell_type": "code",
   "execution_count": 13,
   "metadata": {},
   "outputs": [],
   "source": [
    "# balance the dataset\n",
    "# there are many more fakes than real images\n",
    "def make_weights_for_balanced_classes(images, nclasses):                        \n",
    "    count = [0] * nclasses                                                      \n",
    "    for item in images:                                                         \n",
    "        count[item[1]] += 1                                                     \n",
    "    weight_per_class = [0.] * nclasses                                      \n",
    "    N = float(sum(count))                                                   \n",
    "    for i in range(nclasses):                                                   \n",
    "        weight_per_class[i] = N/float(count[i])                                 \n",
    "    weight = [0] * len(images)                                              \n",
    "    for idx, val in enumerate(images):                                          \n",
    "        weight[idx] = weight_per_class[val[1]]                                  \n",
    "    return weight  "
   ]
  },
  {
   "cell_type": "code",
   "execution_count": 14,
   "metadata": {},
   "outputs": [
    {
     "data": {
      "text/plain": [
       "[('/home/ec2-user/SageMaker/data/deepfake/frame_150/train/fake/aaagqkcdis_150.jpg',\n",
       "  0),\n",
       " ('/home/ec2-user/SageMaker/data/deepfake/frame_150/train/fake/aaavbjopeq_150.jpg',\n",
       "  0),\n",
       " ('/home/ec2-user/SageMaker/data/deepfake/frame_150/train/fake/aaavflklag_150.jpg',\n",
       "  0),\n",
       " ('/home/ec2-user/SageMaker/data/deepfake/frame_150/train/fake/aabdnomlru_150.jpg',\n",
       "  0),\n",
       " ('/home/ec2-user/SageMaker/data/deepfake/frame_150/train/fake/aabdogagch_150.jpg',\n",
       "  0)]"
      ]
     },
     "execution_count": 14,
     "metadata": {},
     "output_type": "execute_result"
    }
   ],
   "source": [
    "image_datasets['train'].imgs[:5]"
   ]
  },
  {
   "cell_type": "code",
   "execution_count": 15,
   "metadata": {},
   "outputs": [
    {
     "data": {
      "text/plain": [
       "75319"
      ]
     },
     "execution_count": 15,
     "metadata": {},
     "output_type": "execute_result"
    }
   ],
   "source": [
    "len(image_datasets['train'])"
   ]
  },
  {
   "cell_type": "code",
   "execution_count": 17,
   "metadata": {},
   "outputs": [],
   "source": [
    "weights = make_weights_for_balanced_classes(image_datasets['train'].imgs, len(image_datasets['train'].classes))                                                                \n",
    "weights = torch.DoubleTensor(weights)                                       \n",
    "sampler = torch.utils.data.sampler.WeightedRandomSampler(weights, len(weights))    "
   ]
  },
  {
   "cell_type": "code",
   "execution_count": 62,
   "metadata": {},
   "outputs": [
    {
     "data": {
      "text/plain": [
       "75319"
      ]
     },
     "execution_count": 62,
     "metadata": {},
     "output_type": "execute_result"
    }
   ],
   "source": [
    "sampler.num_samples"
   ]
  },
  {
   "cell_type": "code",
   "execution_count": 59,
   "metadata": {},
   "outputs": [],
   "source": [
    "#train_size = int(len(image_datasets['train'])*.80)\n",
    "#val_size = len(image_datasets['train']) - train_size\n",
    "\n",
    "#train_size + val_size\n"
   ]
  },
  {
   "cell_type": "code",
   "execution_count": 19,
   "metadata": {},
   "outputs": [
    {
     "data": {
      "text/plain": [
       "tensor([1.2079, 1.2079, 1.2079,  ..., 5.8103, 5.8103, 5.8103],\n",
       "       dtype=torch.float64)"
      ]
     },
     "execution_count": 19,
     "metadata": {},
     "output_type": "execute_result"
    }
   ],
   "source": [
    "sampler.weights"
   ]
  },
  {
   "cell_type": "code",
   "execution_count": 20,
   "metadata": {},
   "outputs": [
    {
     "data": {
      "text/plain": [
       "75319"
      ]
     },
     "execution_count": 20,
     "metadata": {},
     "output_type": "execute_result"
    }
   ],
   "source": [
    "sampler.num_samples"
   ]
  },
  {
   "cell_type": "code",
   "execution_count": 184,
   "metadata": {},
   "outputs": [],
   "source": [
    "'''\n",
    "# not using\n",
    "valid_size = 0.2\n",
    "num_train = len(image_datasets['train'])\n",
    "indices = list(range(num_train))\n",
    "split = int(np.floor(valid_size * num_train))\n",
    "\n",
    "\n",
    "random_seed = 42\n",
    "np.random.seed(random_seed)\n",
    "np.random.shuffle(indices)\n",
    "\n",
    "train_idx, valid_idx = indices[split:], indices[:split]\n",
    "'''"
   ]
  },
  {
   "cell_type": "code",
   "execution_count": 152,
   "metadata": {},
   "outputs": [],
   "source": [
    "#train_sampler = SubsetRandomSampler(train_idx)\n",
    "#val_sampler = SubsetRandomSampler(valid_idx)"
   ]
  },
  {
   "cell_type": "code",
   "execution_count": 74,
   "metadata": {},
   "outputs": [],
   "source": [
    "dataloaders = {'train': torch.utils.data.DataLoader(image_datasets['train'], batch_size=batch_size, num_workers=4, sampler=sampler, pin_memory=True),\n",
    "               'val': torch.utils.data.DataLoader(image_datasets['val'], batch_size=batch_size, num_workers=4, pin_memory=True)\n",
    "              }"
   ]
  },
  {
   "cell_type": "code",
   "execution_count": 75,
   "metadata": {},
   "outputs": [],
   "source": [
    "dataset_sizes = {x: len(image_datasets[x]) for x in ['train', 'val']}\n",
    "\n",
    "class_names = image_datasets['train'].classes\n",
    "\n",
    "device = torch.device(\"cuda:0\" if torch.cuda.is_available() else \"cpu\")"
   ]
  },
  {
   "cell_type": "code",
   "execution_count": 76,
   "metadata": {},
   "outputs": [
    {
     "data": {
      "text/plain": [
       "[tensor([[[[-1.3473, -1.3473, -1.3473,  ..., -0.0972, -0.1314, -0.1314],\n",
       "           [-1.3302, -1.3473, -1.3473,  ..., -0.0972, -0.1314, -0.1314],\n",
       "           [-1.3130, -1.3302, -1.3473,  ..., -0.1314, -0.1314, -0.1143],\n",
       "           ...,\n",
       "           [ 0.0912,  0.0912,  0.0741,  ..., -0.5082, -0.5082, -0.4911],\n",
       "           [ 0.1083,  0.0912,  0.0741,  ..., -0.5253, -0.5424, -0.5253],\n",
       "           [ 0.1083,  0.0912,  0.0741,  ..., -0.5424, -0.5253, -0.4911]],\n",
       " \n",
       "          [[-1.2829, -1.2829, -1.2829,  ..., -0.0399, -0.0399, -0.0399],\n",
       "           [-1.2654, -1.2829, -1.2829,  ..., -0.0399, -0.0399, -0.0399],\n",
       "           [-1.2479, -1.2654, -1.2829,  ..., -0.0399, -0.0399, -0.0224],\n",
       "           ...,\n",
       "           [ 0.1352,  0.1352,  0.1176,  ..., -0.3375, -0.3375, -0.3200],\n",
       "           [ 0.1527,  0.1352,  0.1176,  ..., -0.3550, -0.3200, -0.3025],\n",
       "           [ 0.1527,  0.1352,  0.1176,  ..., -0.3200, -0.3025, -0.2675]],\n",
       " \n",
       "          [[-1.0376, -1.0376, -1.0376,  ...,  0.1999,  0.1999,  0.1999],\n",
       "           [-1.0201, -1.0376, -1.0376,  ...,  0.1999,  0.1999,  0.1999],\n",
       "           [-1.0027, -1.0201, -1.0376,  ...,  0.1999,  0.1999,  0.2173],\n",
       "           ...,\n",
       "           [ 0.7576,  0.7576,  0.7402,  ...,  0.1476,  0.1476,  0.1651],\n",
       "           [ 0.7751,  0.7576,  0.7402,  ...,  0.1302,  0.1476,  0.1651],\n",
       "           [ 0.7751,  0.7576,  0.7402,  ...,  0.1476,  0.1651,  0.2348]]],\n",
       " \n",
       " \n",
       "         [[[-1.5357, -1.5014, -1.5014,  ..., -1.6898, -1.6898, -1.6727],\n",
       "           [-1.5185, -1.5014, -1.5014,  ..., -1.6898, -1.6898, -1.6898],\n",
       "           [-1.5185, -1.5014, -1.5014,  ..., -1.7069, -1.7069, -1.7069],\n",
       "           ...,\n",
       "           [ 0.5536,  0.7933,  1.1529,  ..., -1.4500, -1.4329, -1.4329],\n",
       "           [ 0.3138,  0.4851,  0.7591,  ..., -1.4500, -1.4329, -1.4329],\n",
       "           [ 0.2111,  0.3481,  0.4679,  ..., -1.4158, -1.4158, -1.3987]],\n",
       " \n",
       "          [[-1.3704, -1.3354, -1.3354,  ..., -1.4930, -1.4930, -1.4755],\n",
       "           [-1.3529, -1.3354, -1.3354,  ..., -1.4930, -1.4930, -1.4930],\n",
       "           [-1.3529, -1.3354, -1.3354,  ..., -1.5105, -1.5105, -1.5105],\n",
       "           ...,\n",
       "           [ 0.7304,  1.0280,  1.3957,  ..., -1.4580, -1.4230, -1.4230],\n",
       "           [ 0.4853,  0.7129,  0.9930,  ..., -1.4580, -1.4230, -1.4230],\n",
       "           [ 0.3803,  0.5203,  0.6954,  ..., -1.4230, -1.4055, -1.3880]],\n",
       " \n",
       "          [[-1.1596, -1.1247, -1.1247,  ..., -1.2641, -1.2641, -1.2467],\n",
       "           [-1.1421, -1.1247, -1.1247,  ..., -1.2641, -1.2641, -1.2641],\n",
       "           [-1.1421, -1.1247, -1.1247,  ..., -1.2816, -1.2816, -1.2816],\n",
       "           ...,\n",
       "           [ 0.8971,  1.1759,  1.5420,  ..., -1.2293, -1.2467, -1.2467],\n",
       "           [ 0.6531,  0.8622,  1.1411,  ..., -1.2293, -1.2467, -1.2467],\n",
       "           [ 0.5485,  0.6879,  0.8448,  ..., -1.1944, -1.2293, -1.2119]]],\n",
       " \n",
       " \n",
       "         [[[-0.3541, -0.3883, -0.5082,  ..., -1.1418, -1.1760, -1.2103],\n",
       "           [-0.3712, -0.4226, -0.5596,  ..., -1.1247, -1.1760, -1.2274],\n",
       "           [-0.3883, -0.4568, -0.6281,  ..., -1.1418, -1.2103, -1.2445],\n",
       "           ...,\n",
       "           [ 0.4508,  0.7591,  1.1700,  ..., -1.4500, -1.4158, -1.5185],\n",
       "           [ 0.3481,  0.5707,  0.9817,  ..., -1.3302, -1.3473, -1.5185],\n",
       "           [ 0.3138,  0.4851,  0.9303,  ..., -1.1589, -1.2788, -1.5014]],\n",
       " \n",
       "          [[-0.6001, -0.5651, -0.6877,  ..., -1.2129, -1.2479, -1.2829],\n",
       "           [-0.6001, -0.6001, -0.7402,  ..., -1.1954, -1.2479, -1.2479],\n",
       "           [-0.6176, -0.6877, -0.7927,  ..., -1.2129, -1.2304, -1.2654],\n",
       "           ...,\n",
       "           [ 0.9230,  1.2381,  1.6232,  ..., -0.7927, -0.7577, -0.8277],\n",
       "           [ 0.8354,  1.0455,  1.4657,  ..., -0.6001, -0.6176, -0.7927],\n",
       "           [ 0.8004,  0.9580,  1.4132,  ..., -0.4251, -0.4951, -0.7227]],\n",
       " \n",
       "          [[ 1.3851,  1.3328,  1.1411,  ..., -0.8284, -0.8633, -0.8981],\n",
       "           [ 1.3502,  1.2980,  1.0888,  ..., -0.8110, -0.8633, -0.8807],\n",
       "           [ 1.2980,  1.1934,  0.9842,  ..., -0.8284, -0.8633, -0.8981],\n",
       "           ...,\n",
       "           [ 1.2631,  1.5768,  1.9603,  ...,  0.1476,  0.1476,  0.0605],\n",
       "           [ 1.1759,  1.3851,  1.7860,  ...,  0.2522,  0.2348,  0.0256],\n",
       "           [ 1.1759,  1.2980,  1.7337,  ...,  0.4265,  0.3045,  0.0779]]],\n",
       " \n",
       " \n",
       "         ...,\n",
       " \n",
       " \n",
       "         [[[ 0.6734,  0.6734,  0.6734,  ..., -2.0323, -2.0665, -2.0494],\n",
       "           [ 0.6734,  0.6734,  0.6734,  ..., -2.0152, -2.0494, -2.0152],\n",
       "           [ 0.6734,  0.6734,  0.6734,  ..., -2.0323, -2.0494, -2.0152],\n",
       "           ...,\n",
       "           [-1.5699, -1.5185, -1.3473,  ..., -1.8097, -1.8097, -1.7925],\n",
       "           [-1.5185, -1.4158, -1.2445,  ..., -1.8439, -1.8268, -1.8097],\n",
       "           [-1.3987, -1.2445, -1.0904,  ..., -1.8610, -1.8268, -1.8097]],\n",
       " \n",
       "          [[ 1.0455,  1.0455,  1.0455,  ..., -1.8957, -1.9307, -1.9132],\n",
       "           [ 1.0455,  1.0455,  1.0455,  ..., -1.8782, -1.9132, -1.8782],\n",
       "           [ 1.0455,  1.0455,  1.0455,  ..., -1.8957, -1.9132, -1.8782],\n",
       "           ...,\n",
       "           [-1.3354, -1.2304, -1.0553,  ..., -1.5980, -1.5980, -1.5805],\n",
       "           [-1.2304, -1.1253, -0.9503,  ..., -1.6331, -1.6155, -1.5980],\n",
       "           [-1.1078, -0.9503, -0.7927,  ..., -1.6506, -1.6155, -1.5980]],\n",
       " \n",
       "          [[ 1.4025,  1.4025,  1.4025,  ..., -1.5081, -1.5430, -1.5256],\n",
       "           [ 1.4025,  1.4025,  1.4025,  ..., -1.4907, -1.5256, -1.4907],\n",
       "           [ 1.4025,  1.4025,  1.4025,  ..., -1.5081, -1.5256, -1.4907],\n",
       "           ...,\n",
       "           [-0.7413, -0.6541, -0.4798,  ..., -1.0550, -1.0550, -1.0376],\n",
       "           [-0.6541, -0.5495, -0.3753,  ..., -1.0898, -1.0724, -1.0550],\n",
       "           [-0.5321, -0.3753, -0.2184,  ..., -1.1073, -1.0724, -1.0550]]],\n",
       " \n",
       " \n",
       "         [[[-0.1314, -0.1314, -0.1314,  ..., -1.2274, -1.2103, -1.1932],\n",
       "           [-0.1143, -0.1143, -0.1314,  ..., -1.2445, -1.2103, -1.1760],\n",
       "           [-0.1143, -0.1143, -0.1143,  ..., -1.2788, -1.2445, -1.2103],\n",
       "           ...,\n",
       "           [-0.0629, -0.0629, -0.0629,  ...,  0.2967,  0.3138,  0.3138],\n",
       "           [-0.0629, -0.0629, -0.0629,  ...,  0.2967,  0.2967,  0.2796],\n",
       "           [-0.0629, -0.0629, -0.0629,  ...,  0.2453,  0.2453,  0.2282]],\n",
       " \n",
       "          [[-0.0224, -0.0224, -0.0224,  ..., -1.0203, -1.0028, -0.9853],\n",
       "           [-0.0049, -0.0049, -0.0224,  ..., -1.0378, -1.0028, -0.9678],\n",
       "           [-0.0049, -0.0049, -0.0049,  ..., -1.0728, -1.0378, -0.9853],\n",
       "           ...,\n",
       "           [ 0.1352,  0.1352,  0.1352,  ...,  0.0651,  0.0826,  0.0826],\n",
       "           [ 0.1352,  0.1352,  0.1352,  ...,  0.1001,  0.1001,  0.0826],\n",
       "           [ 0.1352,  0.1352,  0.1352,  ...,  0.0826,  0.0826,  0.0651]],\n",
       " \n",
       "          [[ 0.3045,  0.3045,  0.3045,  ..., -0.4101, -0.3927, -0.3753],\n",
       "           [ 0.3219,  0.3219,  0.3045,  ..., -0.4275, -0.3927, -0.3578],\n",
       "           [ 0.3219,  0.3219,  0.3219,  ..., -0.4624, -0.4275, -0.4275],\n",
       "           ...,\n",
       "           [ 0.4091,  0.4091,  0.4091,  ...,  0.3742,  0.3916,  0.3916],\n",
       "           [ 0.4091,  0.4091,  0.4091,  ...,  0.4265,  0.4265,  0.4091],\n",
       "           [ 0.4091,  0.4091,  0.4091,  ...,  0.4091,  0.4091,  0.3916]]],\n",
       " \n",
       " \n",
       "         [[[-1.4158, -1.4843, -1.5357,  ..., -1.0390, -0.9534, -0.8678],\n",
       "           [-1.6213, -1.6898, -1.7069,  ..., -1.0219, -0.9363, -0.8678],\n",
       "           [-1.7583, -1.7925, -1.7754,  ..., -1.0390, -0.9877, -0.9705],\n",
       "           ...,\n",
       "           [-1.8268, -1.8268, -1.8268,  ...,  0.2453,  0.2453,  0.2111],\n",
       "           [-1.8268, -1.8097, -1.8097,  ...,  0.2967,  0.2453,  0.2111],\n",
       "           [-1.8782, -1.8439, -1.8268,  ...,  0.3138,  0.2624,  0.2453]],\n",
       " \n",
       "          [[-1.0553, -1.0903, -1.1429,  ..., -0.4776, -0.3725, -0.2850],\n",
       "           [-1.2654, -1.3004, -1.3179,  ..., -0.4601, -0.3550, -0.2850],\n",
       "           [-1.4055, -1.4055, -1.3880,  ..., -0.4776, -0.4251, -0.3901],\n",
       "           ...,\n",
       "           [-1.4755, -1.5280, -1.5280,  ...,  1.2206,  1.2381,  1.2031],\n",
       "           [-1.4580, -1.4930, -1.4930,  ...,  1.2381,  1.2206,  1.2206],\n",
       "           [-1.5105, -1.5105, -1.5105,  ...,  1.2556,  1.2381,  1.2556]],\n",
       " \n",
       "          [[-0.7064, -0.7238, -0.7761,  ...,  0.6008,  0.6705,  0.7576],\n",
       "           [-0.9156, -0.9330, -0.9504,  ...,  0.6182,  0.6879,  0.7576],\n",
       "           [-1.0550, -1.0376, -1.0201,  ...,  0.6356,  0.6531,  0.6531],\n",
       "           ...,\n",
       "           [-0.8458, -0.8807, -0.8807,  ...,  1.4374,  1.4025,  1.3677],\n",
       "           [-0.9504, -0.9678, -0.9678,  ...,  1.4548,  1.4374,  1.4200],\n",
       "           [-1.0550, -1.0550, -1.0027,  ...,  1.4722,  1.4548,  1.4548]]]]),\n",
       " tensor([0, 1, 0, 1, 0, 1, 0, 0, 0, 0, 0, 0, 1, 1, 0, 1, 0, 0, 0, 1, 0, 0, 0, 0,\n",
       "         0, 1, 0, 0, 1, 1, 0, 0, 0, 0, 1, 0, 0, 1, 0, 1, 0, 1, 1, 1, 0, 0, 1, 1,\n",
       "         1, 0])]"
      ]
     },
     "execution_count": 76,
     "metadata": {},
     "output_type": "execute_result"
    }
   ],
   "source": [
    "# this was the key to figuring out the issue\n",
    "next(iter(dataloaders['train']))\n",
    "\n",
    "# next(iter(dataloaders['val']))"
   ]
  },
  {
   "cell_type": "code",
   "execution_count": 82,
   "metadata": {},
   "outputs": [
    {
     "data": {
      "text/plain": [
       "[tensor([[[[-0.9192, -0.9192, -0.9192,  ..., -1.0048, -1.0219, -1.0219],\n",
       "           [-0.9192, -0.9192, -0.9192,  ..., -1.0048, -1.0219, -1.0733],\n",
       "           [-0.9192, -0.9363, -0.9363,  ..., -1.0048, -1.0219, -1.0733],\n",
       "           ...,\n",
       "           [-0.2684, -0.2684, -0.2342,  ..., -0.6623, -0.6452, -0.6281],\n",
       "           [-0.2684, -0.2684, -0.2856,  ..., -0.6623, -0.6452, -0.6281],\n",
       "           [-0.2856, -0.2856, -0.2856,  ..., -0.6623, -0.6452, -0.6281]],\n",
       " \n",
       "          [[-0.7052, -0.7052, -0.7052,  ..., -0.8627, -0.8803, -0.8803],\n",
       "           [-0.7052, -0.7052, -0.7052,  ..., -0.8627, -0.8803, -0.8803],\n",
       "           [-0.7052, -0.7227, -0.7227,  ..., -0.8627, -0.8803, -0.8803],\n",
       "           ...,\n",
       "           [-0.0049, -0.0049, -0.0224,  ..., -0.6352, -0.6176, -0.6001],\n",
       "           [-0.0049, -0.0049, -0.0224,  ..., -0.6352, -0.6176, -0.6001],\n",
       "           [-0.0224, -0.0224, -0.0224,  ..., -0.6352, -0.6176, -0.6001]],\n",
       " \n",
       "          [[-0.2358, -0.2358, -0.2010,  ..., -0.2707, -0.2881, -0.2881],\n",
       "           [-0.2358, -0.2010, -0.2010,  ..., -0.2707, -0.2881, -0.3055],\n",
       "           [-0.2010, -0.2184, -0.2184,  ..., -0.2707, -0.2881, -0.3055],\n",
       "           ...,\n",
       "           [ 0.2522,  0.2522,  0.2522,  ..., -0.0267, -0.0092,  0.0256],\n",
       "           [ 0.2522,  0.2522,  0.2348,  ..., -0.0267, -0.0092,  0.0256],\n",
       "           [ 0.2348,  0.2348,  0.2522,  ..., -0.0267, -0.0092,  0.0256]]],\n",
       " \n",
       " \n",
       "         [[[ 0.5022,  0.4851,  0.4508,  ..., -1.2103, -1.2445, -1.2445],\n",
       "           [ 0.5022,  0.4851,  0.4508,  ..., -1.1932, -1.2274, -1.2445],\n",
       "           [ 0.5022,  0.4851,  0.4508,  ..., -1.1760, -1.1932, -1.2103],\n",
       "           ...,\n",
       "           [ 0.4166,  0.4337,  0.4508,  ...,  0.4679,  0.4679,  0.4679],\n",
       "           [ 0.4166,  0.4337,  0.4508,  ...,  0.4851,  0.4851,  0.4851],\n",
       "           [ 0.4166,  0.4337,  0.4508,  ...,  0.4851,  0.4851,  0.4851]],\n",
       " \n",
       "          [[ 0.6429,  0.6254,  0.5903,  ..., -1.2129, -1.2479, -1.2829],\n",
       "           [ 0.6429,  0.6254,  0.5903,  ..., -1.1954, -1.2304, -1.2479],\n",
       "           [ 0.6429,  0.6254,  0.5903,  ..., -1.1779, -1.1954, -1.2129],\n",
       "           ...,\n",
       "           [ 0.5203,  0.5378,  0.5553,  ...,  0.4153,  0.4153,  0.4153],\n",
       "           [ 0.5203,  0.5378,  0.5553,  ...,  0.4153,  0.4153,  0.4153],\n",
       "           [ 0.5203,  0.5378,  0.5553,  ...,  0.4153,  0.4153,  0.4153]],\n",
       " \n",
       "          [[ 0.8622,  0.8448,  0.8448,  ..., -0.7413, -0.8110, -0.8284],\n",
       "           [ 0.8622,  0.8448,  0.8099,  ..., -0.7238, -0.7936, -0.8110],\n",
       "           [ 0.8622,  0.8448,  0.8099,  ..., -0.7064, -0.7238, -0.7413],\n",
       "           ...,\n",
       "           [ 0.7576,  0.7751,  0.7925,  ...,  0.7054,  0.7054,  0.7054],\n",
       "           [ 0.7576,  0.7751,  0.7925,  ...,  0.7054,  0.7054,  0.7054],\n",
       "           [ 0.7576,  0.7751,  0.7925,  ...,  0.7054,  0.7054,  0.7054]]],\n",
       " \n",
       " \n",
       "         [[[ 2.1119,  2.1633,  2.1462,  ..., -0.3883, -0.4397, -0.4397],\n",
       "           [ 2.1119,  2.1462,  2.1462,  ..., -0.3712, -0.4226, -0.4397],\n",
       "           [ 2.1290,  2.1633,  2.1633,  ..., -0.4054, -0.4397, -0.4568],\n",
       "           ...,\n",
       "           [ 0.0398,  0.0227,  0.0227,  ..., -0.0801, -0.0801, -0.0629],\n",
       "           [ 0.0569,  0.0398,  0.0227,  ..., -0.0287, -0.0116,  0.0056],\n",
       "           [ 0.0741,  0.0569,  0.0398,  ..., -0.0116,  0.0056,  0.0398]],\n",
       " \n",
       "          [[ 2.3585,  2.3585,  2.3410,  ..., -0.3550, -0.4076, -0.4426],\n",
       "           [ 2.3585,  2.3410,  2.3410,  ..., -0.3725, -0.4251, -0.4426],\n",
       "           [ 2.3761,  2.3585,  2.3585,  ..., -0.4076, -0.4426, -0.4601],\n",
       "           ...,\n",
       "           [ 0.2402,  0.2227,  0.2227,  ...,  0.1352,  0.1352,  0.1527],\n",
       "           [ 0.2577,  0.2402,  0.2227,  ...,  0.1877,  0.2052,  0.2227],\n",
       "           [ 0.2752,  0.2577,  0.2402,  ...,  0.2052,  0.2402,  0.2752]],\n",
       " \n",
       "          [[ 2.5877,  2.6051,  2.6226,  ...,  0.4265,  0.3393,  0.3219],\n",
       "           [ 2.5877,  2.6226,  2.6226,  ...,  0.3916,  0.3393,  0.3219],\n",
       "           [ 2.6400,  2.6400,  2.6400,  ...,  0.3568,  0.3219,  0.3045],\n",
       "           ...,\n",
       "           [ 0.9319,  0.9145,  0.9145,  ...,  0.9145,  0.9145,  0.9319],\n",
       "           [ 0.9494,  0.9319,  0.9145,  ...,  0.9668,  0.9842,  1.0017],\n",
       "           [ 0.9668,  0.9494,  0.9319,  ...,  0.9842,  1.0191,  1.0539]]],\n",
       " \n",
       " \n",
       "         ...,\n",
       " \n",
       " \n",
       "         [[[-0.9363, -0.9363, -0.9363,  ..., -0.5253, -0.5424, -0.5767],\n",
       "           [-0.9363, -0.9363, -0.9363,  ..., -0.5253, -0.5424, -0.5767],\n",
       "           [-0.9534, -0.9534, -0.9363,  ..., -0.5424, -0.5596, -0.5596],\n",
       "           ...,\n",
       "           [ 0.5878,  0.6049,  0.6049,  ..., -0.3198, -0.3369, -0.3712],\n",
       "           [ 0.6392,  0.6563,  0.6563,  ..., -0.2684, -0.3027, -0.3027],\n",
       "           [ 0.6734,  0.6563,  0.6734,  ..., -0.2684, -0.2684, -0.2856]],\n",
       " \n",
       "          [[-0.5651, -0.5651, -0.5651,  ...,  0.0826,  0.0651,  0.0301],\n",
       "           [-0.5651, -0.5651, -0.5651,  ...,  0.0826,  0.0651,  0.0301],\n",
       "           [-0.5826, -0.5826, -0.5651,  ...,  0.0651,  0.0476,  0.0301],\n",
       "           ...,\n",
       "           [ 0.9055,  0.9230,  0.9755,  ...,  0.1001,  0.0826,  0.0476],\n",
       "           [ 0.9580,  0.9755,  0.9755,  ...,  0.1527,  0.1176,  0.1176],\n",
       "           [ 0.9580,  0.9755,  0.9930,  ...,  0.1527,  0.1527,  0.1352]],\n",
       " \n",
       "          [[ 0.6182,  0.6182,  0.6531,  ...,  0.6879,  0.6531,  0.6182],\n",
       "           [ 0.6182,  0.6182,  0.6182,  ...,  0.6879,  0.6531,  0.6182],\n",
       "           [ 0.6008,  0.6008,  0.6182,  ...,  0.6705,  0.6356,  0.6182],\n",
       "           ...,\n",
       "           [ 1.7511,  1.7511,  1.7860,  ...,  0.6356,  0.6182,  0.5834],\n",
       "           [ 1.7860,  1.8034,  1.8034,  ...,  0.6879,  0.6531,  0.6531],\n",
       "           [ 1.8034,  1.8034,  1.8208,  ...,  0.6879,  0.6879,  0.6705]]],\n",
       " \n",
       " \n",
       "         [[[-1.5699, -1.6213, -1.6898,  ..., -1.4158, -1.4329, -1.3987],\n",
       "           [-1.5699, -1.6213, -1.6727,  ..., -1.4158, -1.4329, -1.3815],\n",
       "           [-1.5870, -1.6213, -1.6727,  ..., -1.4158, -1.4329, -1.3987],\n",
       "           ...,\n",
       "           [-1.7925, -1.7754, -1.7754,  ..., -1.5357, -1.5357, -1.5357],\n",
       "           [-1.7754, -1.7754, -1.7583,  ..., -1.4843, -1.4843, -1.4843],\n",
       "           [-1.7754, -1.7754, -1.7583,  ..., -1.4672, -1.4672, -1.4672]],\n",
       " \n",
       "          [[-1.3704, -1.4230, -1.4930,  ..., -1.4230, -1.4405, -1.4055],\n",
       "           [-1.3704, -1.4230, -1.4755,  ..., -1.4055, -1.4405, -1.3880],\n",
       "           [-1.3880, -1.4230, -1.4755,  ..., -1.4055, -1.4405, -1.4055],\n",
       "           ...,\n",
       "           [-1.7381, -1.7206, -1.7206,  ..., -1.4405, -1.4405, -1.4405],\n",
       "           [-1.7206, -1.7206, -1.7031,  ..., -1.3880, -1.3880, -1.3880],\n",
       "           [-1.7206, -1.7206, -1.7031,  ..., -1.3704, -1.3704, -1.3704]],\n",
       " \n",
       "          [[-1.1770, -1.2293, -1.2990,  ..., -1.1944, -1.2119, -1.1770],\n",
       "           [-1.1770, -1.2293, -1.2467,  ..., -1.2293, -1.2119, -1.1596],\n",
       "           [-1.1944, -1.2293, -1.2467,  ..., -1.2293, -1.2119, -1.1770],\n",
       "           ...,\n",
       "           [-1.4907, -1.4733, -1.4733,  ..., -1.2119, -1.2119, -1.2119],\n",
       "           [-1.4733, -1.4733, -1.4559,  ..., -1.1596, -1.1596, -1.1596],\n",
       "           [-1.4733, -1.4733, -1.4559,  ..., -1.1421, -1.1421, -1.1421]]],\n",
       " \n",
       " \n",
       "         [[[ 1.2385,  1.2385,  1.2385,  ..., -1.1932, -1.1932, -1.1760],\n",
       "           [ 1.2385,  1.2385,  1.2385,  ..., -1.2103, -1.2103, -1.2103],\n",
       "           [ 1.2385,  1.2385,  1.2385,  ..., -1.2103, -1.2274, -1.2274],\n",
       "           ...,\n",
       "           [ 1.1700,  1.1700,  1.1700,  ..., -1.6384, -1.6555, -1.6384],\n",
       "           [ 1.1529,  1.1358,  1.1529,  ..., -1.6555, -1.6555, -1.6384],\n",
       "           [ 1.1358,  1.1358,  1.1358,  ..., -1.6555, -1.6555, -1.6213]],\n",
       " \n",
       "          [[ 1.2731,  1.2731,  1.2731,  ..., -1.1604, -1.1604, -1.1429],\n",
       "           [ 1.2731,  1.2731,  1.2731,  ..., -1.1779, -1.1779, -1.1779],\n",
       "           [ 1.2731,  1.2731,  1.2731,  ..., -1.1779, -1.1954, -1.1954],\n",
       "           ...,\n",
       "           [ 1.2031,  1.2031,  1.2031,  ..., -1.6331, -1.6155, -1.5980],\n",
       "           [ 1.2206,  1.2031,  1.1856,  ..., -1.6506, -1.6155, -1.5980],\n",
       "           [ 1.2031,  1.2031,  1.2031,  ..., -1.6506, -1.6155, -1.5805]],\n",
       " \n",
       "          [[-0.0964, -0.0790, -0.0790,  ..., -0.9504, -0.9853, -0.9678],\n",
       "           [-0.0964, -0.0790, -0.0790,  ..., -0.9678, -1.0027, -1.0027],\n",
       "           [-0.0964, -0.0790, -0.0790,  ..., -0.9678, -1.0201, -1.0201],\n",
       "           ...,\n",
       "           [-0.1487, -0.1487, -0.1487,  ..., -1.2990, -1.2641, -1.2467],\n",
       "           [-0.1487, -0.1661, -0.1661,  ..., -1.2990, -1.2641, -1.2467],\n",
       "           [-0.1661, -0.1661, -0.1661,  ..., -1.2990, -1.2641, -1.1944]]]]),\n",
       " tensor([0, 0, 0, 0, 0, 0, 0, 0, 0, 0, 0, 0, 0, 0, 0, 0, 0, 0, 0, 0, 0, 0, 0, 0,\n",
       "         0, 0, 0, 0, 0, 0, 0, 0, 0, 0, 0, 0, 0, 0, 0, 0, 0, 0, 0, 0, 0, 0, 0, 0,\n",
       "         0, 0])]"
      ]
     },
     "execution_count": 82,
     "metadata": {},
     "output_type": "execute_result"
    }
   ],
   "source": [
    "next(iter(dataloaders['val']))"
   ]
  },
  {
   "cell_type": "code",
   "execution_count": 33,
   "metadata": {},
   "outputs": [
    {
     "data": {
      "text/plain": [
       "['fake', 'real']"
      ]
     },
     "execution_count": 33,
     "metadata": {},
     "output_type": "execute_result"
    }
   ],
   "source": [
    "class_names"
   ]
  },
  {
   "cell_type": "code",
   "execution_count": 24,
   "metadata": {},
   "outputs": [
    {
     "data": {
      "text/plain": [
       "{'train': 75319, 'val': 18828}"
      ]
     },
     "execution_count": 24,
     "metadata": {},
     "output_type": "execute_result"
    }
   ],
   "source": [
    "dataset_sizes"
   ]
  },
  {
   "cell_type": "code",
   "execution_count": 25,
   "metadata": {
    "collapsed": false,
    "jupyter": {
     "outputs_hidden": false
    }
   },
   "outputs": [
    {
     "data": {
      "image/png": "[encoded data removed]",
      "text/plain": [
       "<Figure size 432x288 with 1 Axes>"
      ]
     },
     "metadata": {},
     "output_type": "display_data"
    }
   ],
   "source": [
    "def imshow(inp, title=None):\n",
    "    \"\"\"Imshow for Tensor.\"\"\"\n",
    "    inp = inp.numpy().transpose((1, 2, 0))\n",
    "    mean = np.array([0.485, 0.456, 0.406])\n",
    "    std = np.array([0.229, 0.224, 0.225])\n",
    "    inp = std * inp + mean\n",
    "    inp = np.clip(inp, 0, 1)\n",
    "    plt.imshow(inp)\n",
    "    if title is not None:\n",
    "        plt.title(title)\n",
    "    plt.pause(0.001)  # pause a bit so that plots are updated\n",
    "\n",
    "\n",
    "# Get a batch of training data\n",
    "inputs, classes = next(iter(dataloaders['train']))\n",
    "\n",
    "# Make a grid from batch\n",
    "out = torchvision.utils.make_grid(inputs)\n",
    "\n",
    "imshow(out, title=[class_names[x] for x in classes])"
   ]
  },
  {
   "cell_type": "code",
   "execution_count": 26,
   "metadata": {
    "collapsed": false,
    "jupyter": {
     "outputs_hidden": false
    }
   },
   "outputs": [],
   "source": [
    "def train_model(model, criterion, optimizer, scheduler, num_epochs=25):\n",
    "    since = time.time()\n",
    "\n",
    "    best_model_wts = copy.deepcopy(model.state_dict())\n",
    "    best_acc = 0.0\n",
    "\n",
    "    for epoch in range(num_epochs):\n",
    "        print('Epoch {}/{}'.format(epoch, num_epochs - 1))\n",
    "        print('-' * 10)\n",
    "\n",
    "        # Each epoch has a training and validation phase\n",
    "        for phase in ['train', 'val']:\n",
    "            if phase == 'train':\n",
    "                model.train()  # Set model to training mode\n",
    "            else:\n",
    "                model.eval()   # Set model to evaluate mode\n",
    "\n",
    "            running_loss = 0.0\n",
    "            running_corrects = 0\n",
    "\n",
    "            # Iterate over data.\n",
    "            for inputs, labels in dataloaders[phase]:\n",
    "                inputs = inputs.to(device)\n",
    "                labels = labels.to(device)\n",
    "\n",
    "                # zero the parameter gradients\n",
    "                optimizer.zero_grad()\n",
    "\n",
    "                # forward\n",
    "                # track history if only in train\n",
    "                with torch.set_grad_enabled(phase == 'train'):\n",
    "                    outputs = model(inputs)\n",
    "                    _, preds = torch.max(outputs, 1)                    \n",
    "                    loss = criterion(outputs, labels)\n",
    "\n",
    "                    # backward + optimize only if in training phase\n",
    "                    if phase == 'train':\n",
    "                        loss.backward()\n",
    "                        optimizer.step()\n",
    "\n",
    "                # statistics\n",
    "                running_loss += loss.item() * inputs.size(0)\n",
    "                running_corrects += torch.sum(preds == labels.data)\n",
    "            if phase == 'train':\n",
    "                scheduler.step()\n",
    "\n",
    "            epoch_loss = running_loss / dataset_sizes[phase]\n",
    "            epoch_acc = running_corrects.double() / dataset_sizes[phase]\n",
    "\n",
    "            print('{} Loss: {:.4f} Acc: {:.4f}'.format(\n",
    "                phase, epoch_loss, epoch_acc))\n",
    "\n",
    "            # deep copy the model\n",
    "            if phase == 'val' and epoch_acc > best_acc:\n",
    "                best_acc = epoch_acc\n",
    "                best_model_wts = copy.deepcopy(model.state_dict())\n",
    "\n",
    "        print()\n",
    "\n",
    "    time_elapsed = time.time() - since\n",
    "    print('Training complete in {:.0f}m {:.0f}s'.format(\n",
    "        time_elapsed // 60, time_elapsed % 60))\n",
    "    print('Best val Acc: {:4f}'.format(best_acc))\n",
    "\n",
    "    # load best model weights\n",
    "    model.load_state_dict(best_model_wts)\n",
    "    return model"
   ]
  },
  {
   "cell_type": "code",
   "execution_count": 27,
   "metadata": {
    "collapsed": false,
    "jupyter": {
     "outputs_hidden": false
    }
   },
   "outputs": [],
   "source": [
    "def visualize_model(model, num_images=6):\n",
    "    was_training = model.training\n",
    "    model.eval()\n",
    "    images_so_far = 0\n",
    "    fig = plt.figure()\n",
    "\n",
    "    with torch.no_grad():\n",
    "        for i, (inputs, labels) in enumerate(dataloaders['val']):\n",
    "            inputs = inputs.to(device)\n",
    "            labels = labels.to(device)\n",
    "\n",
    "            outputs = model(inputs)\n",
    "            _, preds = torch.max(outputs, 1)\n",
    "\n",
    "            for j in range(inputs.size()[0]):\n",
    "                images_so_far += 1\n",
    "                ax = plt.subplot(num_images//2, 2, images_so_far)\n",
    "                ax.axis('off')\n",
    "                ax.set_title('predicted: {}'.format(class_names[preds[j]]))\n",
    "                imshow(inputs.cpu().data[j])\n",
    "\n",
    "                if images_so_far == num_images:\n",
    "                    model.train(mode=was_training)\n",
    "                    return\n",
    "        model.train(mode=was_training)"
   ]
  },
  {
   "cell_type": "code",
   "execution_count": 78,
   "metadata": {
    "collapsed": false,
    "jupyter": {
     "outputs_hidden": false
    }
   },
   "outputs": [],
   "source": [
    "model_ft = models.resnet50(pretrained=True)\n",
    "num_ftrs = model_ft.fc.in_features\n",
    "# Here the size of each output sample is set to 2.\n",
    "# Alternatively, it can be generalized to nn.Linear(num_ftrs, len(class_names)).\n",
    "model_ft.fc = nn.Linear(num_ftrs, 2)\n",
    "\n",
    "model_ft = model_ft.to(device)\n",
    "\n",
    "criterion = nn.CrossEntropyLoss()\n",
    "\n",
    "# Observe that all parameters are being optimized\n",
    "optimizer_ft = optim.SGD(model_ft.parameters(), lr=0.001, momentum=0.9)\n",
    "\n",
    "# Decay LR by a factor of 0.1 every 7 epochs\n",
    "exp_lr_scheduler = lr_scheduler.StepLR(optimizer_ft, step_size=7, gamma=0.1)"
   ]
  },
  {
   "cell_type": "code",
   "execution_count": 79,
   "metadata": {
    "collapsed": false,
    "jupyter": {
     "outputs_hidden": false
    }
   },
   "outputs": [
    {
     "name": "stdout",
     "output_type": "stream",
     "text": [
      "Epoch 0/5\n",
      "----------\n",
      "train Loss: 0.3449 Acc: 0.8373\n",
      "val Loss: 0.3112 Acc: 0.8671\n",
      "\n",
      "Epoch 1/5\n",
      "----------\n",
      "train Loss: 0.1429 Acc: 0.9447\n",
      "val Loss: 0.1767 Acc: 0.9329\n",
      "\n",
      "Epoch 2/5\n",
      "----------\n",
      "train Loss: 0.0845 Acc: 0.9685\n",
      "val Loss: 0.2006 Acc: 0.9392\n",
      "\n",
      "Epoch 3/5\n",
      "----------\n",
      "train Loss: 0.0597 Acc: 0.9791\n",
      "val Loss: 0.1684 Acc: 0.9463\n",
      "\n",
      "Epoch 4/5\n",
      "----------\n",
      "train Loss: 0.0397 Acc: 0.9859\n",
      "val Loss: 0.1877 Acc: 0.9430\n",
      "\n",
      "Epoch 5/5\n",
      "----------\n",
      "train Loss: 0.0313 Acc: 0.9891\n",
      "val Loss: 0.1969 Acc: 0.9474\n",
      "\n",
      "Training complete in 24m 50s\n",
      "Best val Acc: 0.947366\n"
     ]
    }
   ],
   "source": [
    "model_ft = train_model(model_ft, criterion, optimizer_ft, exp_lr_scheduler,\n",
    "                       num_epochs=6)"
   ]
  },
  {
   "cell_type": "code",
   "execution_count": 86,
   "metadata": {},
   "outputs": [
    {
     "name": "stdout",
     "output_type": "stream",
     "text": [
      "ResNet(\n",
      "  (conv1): Conv2d(3, 64, kernel_size=(7, 7), stride=(2, 2), padding=(3, 3), bias=False)\n",
      "  (bn1): BatchNorm2d(64, eps=1e-05, momentum=0.1, affine=True, track_running_stats=True)\n",
      "  (relu): ReLU(inplace=True)\n",
      "  (maxpool): MaxPool2d(kernel_size=3, stride=2, padding=1, dilation=1, ceil_mode=False)\n",
      "  (layer1): Sequential(\n",
      "    (0): Bottleneck(\n",
      "      (conv1): Conv2d(64, 64, kernel_size=(1, 1), stride=(1, 1), bias=False)\n",
      "      (bn1): BatchNorm2d(64, eps=1e-05, momentum=0.1, affine=True, track_running_stats=True)\n",
      "      (conv2): Conv2d(64, 64, kernel_size=(3, 3), stride=(1, 1), padding=(1, 1), bias=False)\n",
      "      (bn2): BatchNorm2d(64, eps=1e-05, momentum=0.1, affine=True, track_running_stats=True)\n",
      "      (conv3): Conv2d(64, 256, kernel_size=(1, 1), stride=(1, 1), bias=False)\n",
      "      (bn3): BatchNorm2d(256, eps=1e-05, momentum=0.1, affine=True, track_running_stats=True)\n",
      "      (relu): ReLU(inplace=True)\n",
      "      (downsample): Sequential(\n",
      "        (0): Conv2d(64, 256, kernel_size=(1, 1), stride=(1, 1), bias=False)\n",
      "        (1): BatchNorm2d(256, eps=1e-05, momentum=0.1, affine=True, track_running_stats=True)\n",
      "      )\n",
      "    )\n",
      "    (1): Bottleneck(\n",
      "      (conv1): Conv2d(256, 64, kernel_size=(1, 1), stride=(1, 1), bias=False)\n",
      "      (bn1): BatchNorm2d(64, eps=1e-05, momentum=0.1, affine=True, track_running_stats=True)\n",
      "      (conv2): Conv2d(64, 64, kernel_size=(3, 3), stride=(1, 1), padding=(1, 1), bias=False)\n",
      "      (bn2): BatchNorm2d(64, eps=1e-05, momentum=0.1, affine=True, track_running_stats=True)\n",
      "      (conv3): Conv2d(64, 256, kernel_size=(1, 1), stride=(1, 1), bias=False)\n",
      "      (bn3): BatchNorm2d(256, eps=1e-05, momentum=0.1, affine=True, track_running_stats=True)\n",
      "      (relu): ReLU(inplace=True)\n",
      "    )\n",
      "    (2): Bottleneck(\n",
      "      (conv1): Conv2d(256, 64, kernel_size=(1, 1), stride=(1, 1), bias=False)\n",
      "      (bn1): BatchNorm2d(64, eps=1e-05, momentum=0.1, affine=True, track_running_stats=True)\n",
      "      (conv2): Conv2d(64, 64, kernel_size=(3, 3), stride=(1, 1), padding=(1, 1), bias=False)\n",
      "      (bn2): BatchNorm2d(64, eps=1e-05, momentum=0.1, affine=True, track_running_stats=True)\n",
      "      (conv3): Conv2d(64, 256, kernel_size=(1, 1), stride=(1, 1), bias=False)\n",
      "      (bn3): BatchNorm2d(256, eps=1e-05, momentum=0.1, affine=True, track_running_stats=True)\n",
      "      (relu): ReLU(inplace=True)\n",
      "    )\n",
      "  )\n",
      "  (layer2): Sequential(\n",
      "    (0): Bottleneck(\n",
      "      (conv1): Conv2d(256, 128, kernel_size=(1, 1), stride=(1, 1), bias=False)\n",
      "      (bn1): BatchNorm2d(128, eps=1e-05, momentum=0.1, affine=True, track_running_stats=True)\n",
      "      (conv2): Conv2d(128, 128, kernel_size=(3, 3), stride=(2, 2), padding=(1, 1), bias=False)\n",
      "      (bn2): BatchNorm2d(128, eps=1e-05, momentum=0.1, affine=True, track_running_stats=True)\n",
      "      (conv3): Conv2d(128, 512, kernel_size=(1, 1), stride=(1, 1), bias=False)\n",
      "      (bn3): BatchNorm2d(512, eps=1e-05, momentum=0.1, affine=True, track_running_stats=True)\n",
      "      (relu): ReLU(inplace=True)\n",
      "      (downsample): Sequential(\n",
      "        (0): Conv2d(256, 512, kernel_size=(1, 1), stride=(2, 2), bias=False)\n",
      "        (1): BatchNorm2d(512, eps=1e-05, momentum=0.1, affine=True, track_running_stats=True)\n",
      "      )\n",
      "    )\n",
      "    (1): Bottleneck(\n",
      "      (conv1): Conv2d(512, 128, kernel_size=(1, 1), stride=(1, 1), bias=False)\n",
      "      (bn1): BatchNorm2d(128, eps=1e-05, momentum=0.1, affine=True, track_running_stats=True)\n",
      "      (conv2): Conv2d(128, 128, kernel_size=(3, 3), stride=(1, 1), padding=(1, 1), bias=False)\n",
      "      (bn2): BatchNorm2d(128, eps=1e-05, momentum=0.1, affine=True, track_running_stats=True)\n",
      "      (conv3): Conv2d(128, 512, kernel_size=(1, 1), stride=(1, 1), bias=False)\n",
      "      (bn3): BatchNorm2d(512, eps=1e-05, momentum=0.1, affine=True, track_running_stats=True)\n",
      "      (relu): ReLU(inplace=True)\n",
      "    )\n",
      "    (2): Bottleneck(\n",
      "      (conv1): Conv2d(512, 128, kernel_size=(1, 1), stride=(1, 1), bias=False)\n",
      "      (bn1): BatchNorm2d(128, eps=1e-05, momentum=0.1, affine=True, track_running_stats=True)\n",
      "      (conv2): Conv2d(128, 128, kernel_size=(3, 3), stride=(1, 1), padding=(1, 1), bias=False)\n",
      "      (bn2): BatchNorm2d(128, eps=1e-05, momentum=0.1, affine=True, track_running_stats=True)\n",
      "      (conv3): Conv2d(128, 512, kernel_size=(1, 1), stride=(1, 1), bias=False)\n",
      "      (bn3): BatchNorm2d(512, eps=1e-05, momentum=0.1, affine=True, track_running_stats=True)\n",
      "      (relu): ReLU(inplace=True)\n",
      "    )\n",
      "    (3): Bottleneck(\n",
      "      (conv1): Conv2d(512, 128, kernel_size=(1, 1), stride=(1, 1), bias=False)\n",
      "      (bn1): BatchNorm2d(128, eps=1e-05, momentum=0.1, affine=True, track_running_stats=True)\n",
      "      (conv2): Conv2d(128, 128, kernel_size=(3, 3), stride=(1, 1), padding=(1, 1), bias=False)\n",
      "      (bn2): BatchNorm2d(128, eps=1e-05, momentum=0.1, affine=True, track_running_stats=True)\n",
      "      (conv3): Conv2d(128, 512, kernel_size=(1, 1), stride=(1, 1), bias=False)\n",
      "      (bn3): BatchNorm2d(512, eps=1e-05, momentum=0.1, affine=True, track_running_stats=True)\n",
      "      (relu): ReLU(inplace=True)\n",
      "    )\n",
      "  )\n",
      "  (layer3): Sequential(\n",
      "    (0): Bottleneck(\n",
      "      (conv1): Conv2d(512, 256, kernel_size=(1, 1), stride=(1, 1), bias=False)\n",
      "      (bn1): BatchNorm2d(256, eps=1e-05, momentum=0.1, affine=True, track_running_stats=True)\n",
      "      (conv2): Conv2d(256, 256, kernel_size=(3, 3), stride=(2, 2), padding=(1, 1), bias=False)\n",
      "      (bn2): BatchNorm2d(256, eps=1e-05, momentum=0.1, affine=True, track_running_stats=True)\n",
      "      (conv3): Conv2d(256, 1024, kernel_size=(1, 1), stride=(1, 1), bias=False)\n",
      "      (bn3): BatchNorm2d(1024, eps=1e-05, momentum=0.1, affine=True, track_running_stats=True)\n",
      "      (relu): ReLU(inplace=True)\n",
      "      (downsample): Sequential(\n",
      "        (0): Conv2d(512, 1024, kernel_size=(1, 1), stride=(2, 2), bias=False)\n",
      "        (1): BatchNorm2d(1024, eps=1e-05, momentum=0.1, affine=True, track_running_stats=True)\n",
      "      )\n",
      "    )\n",
      "    (1): Bottleneck(\n",
      "      (conv1): Conv2d(1024, 256, kernel_size=(1, 1), stride=(1, 1), bias=False)\n",
      "      (bn1): BatchNorm2d(256, eps=1e-05, momentum=0.1, affine=True, track_running_stats=True)\n",
      "      (conv2): Conv2d(256, 256, kernel_size=(3, 3), stride=(1, 1), padding=(1, 1), bias=False)\n",
      "      (bn2): BatchNorm2d(256, eps=1e-05, momentum=0.1, affine=True, track_running_stats=True)\n",
      "      (conv3): Conv2d(256, 1024, kernel_size=(1, 1), stride=(1, 1), bias=False)\n",
      "      (bn3): BatchNorm2d(1024, eps=1e-05, momentum=0.1, affine=True, track_running_stats=True)\n",
      "      (relu): ReLU(inplace=True)\n",
      "    )\n",
      "    (2): Bottleneck(\n",
      "      (conv1): Conv2d(1024, 256, kernel_size=(1, 1), stride=(1, 1), bias=False)\n",
      "      (bn1): BatchNorm2d(256, eps=1e-05, momentum=0.1, affine=True, track_running_stats=True)\n",
      "      (conv2): Conv2d(256, 256, kernel_size=(3, 3), stride=(1, 1), padding=(1, 1), bias=False)\n",
      "      (bn2): BatchNorm2d(256, eps=1e-05, momentum=0.1, affine=True, track_running_stats=True)\n",
      "      (conv3): Conv2d(256, 1024, kernel_size=(1, 1), stride=(1, 1), bias=False)\n",
      "      (bn3): BatchNorm2d(1024, eps=1e-05, momentum=0.1, affine=True, track_running_stats=True)\n",
      "      (relu): ReLU(inplace=True)\n",
      "    )\n",
      "    (3): Bottleneck(\n",
      "      (conv1): Conv2d(1024, 256, kernel_size=(1, 1), stride=(1, 1), bias=False)\n",
      "      (bn1): BatchNorm2d(256, eps=1e-05, momentum=0.1, affine=True, track_running_stats=True)\n",
      "      (conv2): Conv2d(256, 256, kernel_size=(3, 3), stride=(1, 1), padding=(1, 1), bias=False)\n",
      "      (bn2): BatchNorm2d(256, eps=1e-05, momentum=0.1, affine=True, track_running_stats=True)\n",
      "      (conv3): Conv2d(256, 1024, kernel_size=(1, 1), stride=(1, 1), bias=False)\n",
      "      (bn3): BatchNorm2d(1024, eps=1e-05, momentum=0.1, affine=True, track_running_stats=True)\n",
      "      (relu): ReLU(inplace=True)\n",
      "    )\n",
      "    (4): Bottleneck(\n",
      "      (conv1): Conv2d(1024, 256, kernel_size=(1, 1), stride=(1, 1), bias=False)\n",
      "      (bn1): BatchNorm2d(256, eps=1e-05, momentum=0.1, affine=True, track_running_stats=True)\n",
      "      (conv2): Conv2d(256, 256, kernel_size=(3, 3), stride=(1, 1), padding=(1, 1), bias=False)\n",
      "      (bn2): BatchNorm2d(256, eps=1e-05, momentum=0.1, affine=True, track_running_stats=True)\n",
      "      (conv3): Conv2d(256, 1024, kernel_size=(1, 1), stride=(1, 1), bias=False)\n",
      "      (bn3): BatchNorm2d(1024, eps=1e-05, momentum=0.1, affine=True, track_running_stats=True)\n",
      "      (relu): ReLU(inplace=True)\n",
      "    )\n",
      "    (5): Bottleneck(\n",
      "      (conv1): Conv2d(1024, 256, kernel_size=(1, 1), stride=(1, 1), bias=False)\n",
      "      (bn1): BatchNorm2d(256, eps=1e-05, momentum=0.1, affine=True, track_running_stats=True)\n",
      "      (conv2): Conv2d(256, 256, kernel_size=(3, 3), stride=(1, 1), padding=(1, 1), bias=False)\n",
      "      (bn2): BatchNorm2d(256, eps=1e-05, momentum=0.1, affine=True, track_running_stats=True)\n",
      "      (conv3): Conv2d(256, 1024, kernel_size=(1, 1), stride=(1, 1), bias=False)\n",
      "      (bn3): BatchNorm2d(1024, eps=1e-05, momentum=0.1, affine=True, track_running_stats=True)\n",
      "      (relu): ReLU(inplace=True)\n",
      "    )\n",
      "  )\n",
      "  (layer4): Sequential(\n",
      "    (0): Bottleneck(\n",
      "      (conv1): Conv2d(1024, 512, kernel_size=(1, 1), stride=(1, 1), bias=False)\n",
      "      (bn1): BatchNorm2d(512, eps=1e-05, momentum=0.1, affine=True, track_running_stats=True)\n",
      "      (conv2): Conv2d(512, 512, kernel_size=(3, 3), stride=(2, 2), padding=(1, 1), bias=False)\n",
      "      (bn2): BatchNorm2d(512, eps=1e-05, momentum=0.1, affine=True, track_running_stats=True)\n",
      "      (conv3): Conv2d(512, 2048, kernel_size=(1, 1), stride=(1, 1), bias=False)\n",
      "      (bn3): BatchNorm2d(2048, eps=1e-05, momentum=0.1, affine=True, track_running_stats=True)\n",
      "      (relu): ReLU(inplace=True)\n",
      "      (downsample): Sequential(\n",
      "        (0): Conv2d(1024, 2048, kernel_size=(1, 1), stride=(2, 2), bias=False)\n",
      "        (1): BatchNorm2d(2048, eps=1e-05, momentum=0.1, affine=True, track_running_stats=True)\n",
      "      )\n",
      "    )\n",
      "    (1): Bottleneck(\n",
      "      (conv1): Conv2d(2048, 512, kernel_size=(1, 1), stride=(1, 1), bias=False)\n",
      "      (bn1): BatchNorm2d(512, eps=1e-05, momentum=0.1, affine=True, track_running_stats=True)\n",
      "      (conv2): Conv2d(512, 512, kernel_size=(3, 3), stride=(1, 1), padding=(1, 1), bias=False)\n",
      "      (bn2): BatchNorm2d(512, eps=1e-05, momentum=0.1, affine=True, track_running_stats=True)\n",
      "      (conv3): Conv2d(512, 2048, kernel_size=(1, 1), stride=(1, 1), bias=False)\n",
      "      (bn3): BatchNorm2d(2048, eps=1e-05, momentum=0.1, affine=True, track_running_stats=True)\n",
      "      (relu): ReLU(inplace=True)\n",
      "    )\n",
      "    (2): Bottleneck(\n",
      "      (conv1): Conv2d(2048, 512, kernel_size=(1, 1), stride=(1, 1), bias=False)\n",
      "      (bn1): BatchNorm2d(512, eps=1e-05, momentum=0.1, affine=True, track_running_stats=True)\n",
      "      (conv2): Conv2d(512, 512, kernel_size=(3, 3), stride=(1, 1), padding=(1, 1), bias=False)\n",
      "      (bn2): BatchNorm2d(512, eps=1e-05, momentum=0.1, affine=True, track_running_stats=True)\n",
      "      (conv3): Conv2d(512, 2048, kernel_size=(1, 1), stride=(1, 1), bias=False)\n",
      "      (bn3): BatchNorm2d(2048, eps=1e-05, momentum=0.1, affine=True, track_running_stats=True)\n",
      "      (relu): ReLU(inplace=True)\n",
      "    )\n",
      "  )\n",
      "  (avgpool): AdaptiveAvgPool2d(output_size=(1, 1))\n",
      "  (fc): Linear(in_features=2048, out_features=2, bias=True)\n",
      ")\n"
     ]
    }
   ],
   "source": [
    "print(model_ft)"
   ]
  },
  {
   "cell_type": "code",
   "execution_count": 87,
   "metadata": {},
   "outputs": [],
   "source": [
    "from torchsummary import summary"
   ]
  },
  {
   "cell_type": "code",
   "execution_count": 88,
   "metadata": {},
   "outputs": [
    {
     "name": "stdout",
     "output_type": "stream",
     "text": [
      "----------------------------------------------------------------\n",
      "        Layer (type)               Output Shape         Param #\n",
      "================================================================\n",
      "            Conv2d-1         [-1, 64, 112, 112]           9,408\n",
      "       BatchNorm2d-2         [-1, 64, 112, 112]             128\n",
      "              ReLU-3         [-1, 64, 112, 112]               0\n",
      "         MaxPool2d-4           [-1, 64, 56, 56]               0\n",
      "            Conv2d-5           [-1, 64, 56, 56]           4,096\n",
      "       BatchNorm2d-6           [-1, 64, 56, 56]             128\n",
      "              ReLU-7           [-1, 64, 56, 56]               0\n",
      "            Conv2d-8           [-1, 64, 56, 56]          36,864\n",
      "       BatchNorm2d-9           [-1, 64, 56, 56]             128\n",
      "             ReLU-10           [-1, 64, 56, 56]               0\n",
      "           Conv2d-11          [-1, 256, 56, 56]          16,384\n",
      "      BatchNorm2d-12          [-1, 256, 56, 56]             512\n",
      "           Conv2d-13          [-1, 256, 56, 56]          16,384\n",
      "      BatchNorm2d-14          [-1, 256, 56, 56]             512\n",
      "             ReLU-15          [-1, 256, 56, 56]               0\n",
      "       Bottleneck-16          [-1, 256, 56, 56]               0\n",
      "           Conv2d-17           [-1, 64, 56, 56]          16,384\n",
      "      BatchNorm2d-18           [-1, 64, 56, 56]             128\n",
      "             ReLU-19           [-1, 64, 56, 56]               0\n",
      "           Conv2d-20           [-1, 64, 56, 56]          36,864\n",
      "      BatchNorm2d-21           [-1, 64, 56, 56]             128\n",
      "             ReLU-22           [-1, 64, 56, 56]               0\n",
      "           Conv2d-23          [-1, 256, 56, 56]          16,384\n",
      "      BatchNorm2d-24          [-1, 256, 56, 56]             512\n",
      "             ReLU-25          [-1, 256, 56, 56]               0\n",
      "       Bottleneck-26          [-1, 256, 56, 56]               0\n",
      "           Conv2d-27           [-1, 64, 56, 56]          16,384\n",
      "      BatchNorm2d-28           [-1, 64, 56, 56]             128\n",
      "             ReLU-29           [-1, 64, 56, 56]               0\n",
      "           Conv2d-30           [-1, 64, 56, 56]          36,864\n",
      "      BatchNorm2d-31           [-1, 64, 56, 56]             128\n",
      "             ReLU-32           [-1, 64, 56, 56]               0\n",
      "           Conv2d-33          [-1, 256, 56, 56]          16,384\n",
      "      BatchNorm2d-34          [-1, 256, 56, 56]             512\n",
      "             ReLU-35          [-1, 256, 56, 56]               0\n",
      "       Bottleneck-36          [-1, 256, 56, 56]               0\n",
      "           Conv2d-37          [-1, 128, 56, 56]          32,768\n",
      "      BatchNorm2d-38          [-1, 128, 56, 56]             256\n",
      "             ReLU-39          [-1, 128, 56, 56]               0\n",
      "           Conv2d-40          [-1, 128, 28, 28]         147,456\n",
      "      BatchNorm2d-41          [-1, 128, 28, 28]             256\n",
      "             ReLU-42          [-1, 128, 28, 28]               0\n",
      "           Conv2d-43          [-1, 512, 28, 28]          65,536\n",
      "      BatchNorm2d-44          [-1, 512, 28, 28]           1,024\n",
      "           Conv2d-45          [-1, 512, 28, 28]         131,072\n",
      "      BatchNorm2d-46          [-1, 512, 28, 28]           1,024\n",
      "             ReLU-47          [-1, 512, 28, 28]               0\n",
      "       Bottleneck-48          [-1, 512, 28, 28]               0\n",
      "           Conv2d-49          [-1, 128, 28, 28]          65,536\n",
      "      BatchNorm2d-50          [-1, 128, 28, 28]             256\n",
      "             ReLU-51          [-1, 128, 28, 28]               0\n",
      "           Conv2d-52          [-1, 128, 28, 28]         147,456\n",
      "      BatchNorm2d-53          [-1, 128, 28, 28]             256\n",
      "             ReLU-54          [-1, 128, 28, 28]               0\n",
      "           Conv2d-55          [-1, 512, 28, 28]          65,536\n",
      "      BatchNorm2d-56          [-1, 512, 28, 28]           1,024\n",
      "             ReLU-57          [-1, 512, 28, 28]               0\n",
      "       Bottleneck-58          [-1, 512, 28, 28]               0\n",
      "           Conv2d-59          [-1, 128, 28, 28]          65,536\n",
      "      BatchNorm2d-60          [-1, 128, 28, 28]             256\n",
      "             ReLU-61          [-1, 128, 28, 28]               0\n",
      "           Conv2d-62          [-1, 128, 28, 28]         147,456\n",
      "      BatchNorm2d-63          [-1, 128, 28, 28]             256\n",
      "             ReLU-64          [-1, 128, 28, 28]               0\n",
      "           Conv2d-65          [-1, 512, 28, 28]          65,536\n",
      "      BatchNorm2d-66          [-1, 512, 28, 28]           1,024\n",
      "             ReLU-67          [-1, 512, 28, 28]               0\n",
      "       Bottleneck-68          [-1, 512, 28, 28]               0\n",
      "           Conv2d-69          [-1, 128, 28, 28]          65,536\n",
      "      BatchNorm2d-70          [-1, 128, 28, 28]             256\n",
      "             ReLU-71          [-1, 128, 28, 28]               0\n",
      "           Conv2d-72          [-1, 128, 28, 28]         147,456\n",
      "      BatchNorm2d-73          [-1, 128, 28, 28]             256\n",
      "             ReLU-74          [-1, 128, 28, 28]               0\n",
      "           Conv2d-75          [-1, 512, 28, 28]          65,536\n",
      "      BatchNorm2d-76          [-1, 512, 28, 28]           1,024\n",
      "             ReLU-77          [-1, 512, 28, 28]               0\n",
      "       Bottleneck-78          [-1, 512, 28, 28]               0\n",
      "           Conv2d-79          [-1, 256, 28, 28]         131,072\n",
      "      BatchNorm2d-80          [-1, 256, 28, 28]             512\n",
      "             ReLU-81          [-1, 256, 28, 28]               0\n",
      "           Conv2d-82          [-1, 256, 14, 14]         589,824\n",
      "      BatchNorm2d-83          [-1, 256, 14, 14]             512\n",
      "             ReLU-84          [-1, 256, 14, 14]               0\n",
      "           Conv2d-85         [-1, 1024, 14, 14]         262,144\n",
      "      BatchNorm2d-86         [-1, 1024, 14, 14]           2,048\n",
      "           Conv2d-87         [-1, 1024, 14, 14]         524,288\n",
      "      BatchNorm2d-88         [-1, 1024, 14, 14]           2,048\n",
      "             ReLU-89         [-1, 1024, 14, 14]               0\n",
      "       Bottleneck-90         [-1, 1024, 14, 14]               0\n",
      "           Conv2d-91          [-1, 256, 14, 14]         262,144\n",
      "      BatchNorm2d-92          [-1, 256, 14, 14]             512\n",
      "             ReLU-93          [-1, 256, 14, 14]               0\n",
      "           Conv2d-94          [-1, 256, 14, 14]         589,824\n",
      "      BatchNorm2d-95          [-1, 256, 14, 14]             512\n",
      "             ReLU-96          [-1, 256, 14, 14]               0\n",
      "           Conv2d-97         [-1, 1024, 14, 14]         262,144\n",
      "      BatchNorm2d-98         [-1, 1024, 14, 14]           2,048\n",
      "             ReLU-99         [-1, 1024, 14, 14]               0\n",
      "      Bottleneck-100         [-1, 1024, 14, 14]               0\n",
      "          Conv2d-101          [-1, 256, 14, 14]         262,144\n",
      "     BatchNorm2d-102          [-1, 256, 14, 14]             512\n",
      "            ReLU-103          [-1, 256, 14, 14]               0\n",
      "          Conv2d-104          [-1, 256, 14, 14]         589,824\n",
      "     BatchNorm2d-105          [-1, 256, 14, 14]             512\n",
      "            ReLU-106          [-1, 256, 14, 14]               0\n",
      "          Conv2d-107         [-1, 1024, 14, 14]         262,144\n",
      "     BatchNorm2d-108         [-1, 1024, 14, 14]           2,048\n",
      "            ReLU-109         [-1, 1024, 14, 14]               0\n",
      "      Bottleneck-110         [-1, 1024, 14, 14]               0\n",
      "          Conv2d-111          [-1, 256, 14, 14]         262,144\n",
      "     BatchNorm2d-112          [-1, 256, 14, 14]             512\n",
      "            ReLU-113          [-1, 256, 14, 14]               0\n",
      "          Conv2d-114          [-1, 256, 14, 14]         589,824\n",
      "     BatchNorm2d-115          [-1, 256, 14, 14]             512\n",
      "            ReLU-116          [-1, 256, 14, 14]               0\n",
      "          Conv2d-117         [-1, 1024, 14, 14]         262,144\n",
      "     BatchNorm2d-118         [-1, 1024, 14, 14]           2,048\n",
      "            ReLU-119         [-1, 1024, 14, 14]               0\n",
      "      Bottleneck-120         [-1, 1024, 14, 14]               0\n",
      "          Conv2d-121          [-1, 256, 14, 14]         262,144\n",
      "     BatchNorm2d-122          [-1, 256, 14, 14]             512\n",
      "            ReLU-123          [-1, 256, 14, 14]               0\n",
      "          Conv2d-124          [-1, 256, 14, 14]         589,824\n",
      "     BatchNorm2d-125          [-1, 256, 14, 14]             512\n",
      "            ReLU-126          [-1, 256, 14, 14]               0\n",
      "          Conv2d-127         [-1, 1024, 14, 14]         262,144\n",
      "     BatchNorm2d-128         [-1, 1024, 14, 14]           2,048\n",
      "            ReLU-129         [-1, 1024, 14, 14]               0\n",
      "      Bottleneck-130         [-1, 1024, 14, 14]               0\n",
      "          Conv2d-131          [-1, 256, 14, 14]         262,144\n",
      "     BatchNorm2d-132          [-1, 256, 14, 14]             512\n",
      "            ReLU-133          [-1, 256, 14, 14]               0\n",
      "          Conv2d-134          [-1, 256, 14, 14]         589,824\n",
      "     BatchNorm2d-135          [-1, 256, 14, 14]             512\n",
      "            ReLU-136          [-1, 256, 14, 14]               0\n",
      "          Conv2d-137         [-1, 1024, 14, 14]         262,144\n",
      "     BatchNorm2d-138         [-1, 1024, 14, 14]           2,048\n",
      "            ReLU-139         [-1, 1024, 14, 14]               0\n",
      "      Bottleneck-140         [-1, 1024, 14, 14]               0\n",
      "          Conv2d-141          [-1, 512, 14, 14]         524,288\n",
      "     BatchNorm2d-142          [-1, 512, 14, 14]           1,024\n",
      "            ReLU-143          [-1, 512, 14, 14]               0\n",
      "          Conv2d-144            [-1, 512, 7, 7]       2,359,296\n",
      "     BatchNorm2d-145            [-1, 512, 7, 7]           1,024\n",
      "            ReLU-146            [-1, 512, 7, 7]               0\n",
      "          Conv2d-147           [-1, 2048, 7, 7]       1,048,576\n",
      "     BatchNorm2d-148           [-1, 2048, 7, 7]           4,096\n",
      "          Conv2d-149           [-1, 2048, 7, 7]       2,097,152\n",
      "     BatchNorm2d-150           [-1, 2048, 7, 7]           4,096\n",
      "            ReLU-151           [-1, 2048, 7, 7]               0\n",
      "      Bottleneck-152           [-1, 2048, 7, 7]               0\n",
      "          Conv2d-153            [-1, 512, 7, 7]       1,048,576\n",
      "     BatchNorm2d-154            [-1, 512, 7, 7]           1,024\n",
      "            ReLU-155            [-1, 512, 7, 7]               0\n",
      "          Conv2d-156            [-1, 512, 7, 7]       2,359,296\n",
      "     BatchNorm2d-157            [-1, 512, 7, 7]           1,024\n",
      "            ReLU-158            [-1, 512, 7, 7]               0\n",
      "          Conv2d-159           [-1, 2048, 7, 7]       1,048,576\n",
      "     BatchNorm2d-160           [-1, 2048, 7, 7]           4,096\n",
      "            ReLU-161           [-1, 2048, 7, 7]               0\n",
      "      Bottleneck-162           [-1, 2048, 7, 7]               0\n",
      "          Conv2d-163            [-1, 512, 7, 7]       1,048,576\n",
      "     BatchNorm2d-164            [-1, 512, 7, 7]           1,024\n",
      "            ReLU-165            [-1, 512, 7, 7]               0\n",
      "          Conv2d-166            [-1, 512, 7, 7]       2,359,296\n",
      "     BatchNorm2d-167            [-1, 512, 7, 7]           1,024\n",
      "            ReLU-168            [-1, 512, 7, 7]               0\n",
      "          Conv2d-169           [-1, 2048, 7, 7]       1,048,576\n",
      "     BatchNorm2d-170           [-1, 2048, 7, 7]           4,096\n",
      "            ReLU-171           [-1, 2048, 7, 7]               0\n",
      "      Bottleneck-172           [-1, 2048, 7, 7]               0\n",
      "AdaptiveAvgPool2d-173           [-1, 2048, 1, 1]               0\n",
      "          Linear-174                    [-1, 2]           4,098\n",
      "================================================================\n",
      "Total params: 23,512,130\n",
      "Trainable params: 23,512,130\n",
      "Non-trainable params: 0\n",
      "----------------------------------------------------------------\n",
      "Input size (MB): 0.57\n",
      "Forward/backward pass size (MB): 286.55\n",
      "Params size (MB): 89.69\n",
      "Estimated Total Size (MB): 376.82\n",
      "----------------------------------------------------------------\n"
     ]
    }
   ],
   "source": [
    "summary(model_ft, (3, 224, 224))"
   ]
  },
  {
   "cell_type": "code",
   "execution_count": 89,
   "metadata": {},
   "outputs": [
    {
     "data": {
      "text/plain": [
       "ResNet(\n",
       "  (conv1): Conv2d(3, 64, kernel_size=(7, 7), stride=(2, 2), padding=(3, 3), bias=False)\n",
       "  (bn1): BatchNorm2d(64, eps=1e-05, momentum=0.1, affine=True, track_running_stats=True)\n",
       "  (relu): ReLU(inplace=True)\n",
       "  (maxpool): MaxPool2d(kernel_size=3, stride=2, padding=1, dilation=1, ceil_mode=False)\n",
       "  (layer1): Sequential(\n",
       "    (0): Bottleneck(\n",
       "      (conv1): Conv2d(64, 64, kernel_size=(1, 1), stride=(1, 1), bias=False)\n",
       "      (bn1): BatchNorm2d(64, eps=1e-05, momentum=0.1, affine=True, track_running_stats=True)\n",
       "      (conv2): Conv2d(64, 64, kernel_size=(3, 3), stride=(1, 1), padding=(1, 1), bias=False)\n",
       "      (bn2): BatchNorm2d(64, eps=1e-05, momentum=0.1, affine=True, track_running_stats=True)\n",
       "      (conv3): Conv2d(64, 256, kernel_size=(1, 1), stride=(1, 1), bias=False)\n",
       "      (bn3): BatchNorm2d(256, eps=1e-05, momentum=0.1, affine=True, track_running_stats=True)\n",
       "      (relu): ReLU(inplace=True)\n",
       "      (downsample): Sequential(\n",
       "        (0): Conv2d(64, 256, kernel_size=(1, 1), stride=(1, 1), bias=False)\n",
       "        (1): BatchNorm2d(256, eps=1e-05, momentum=0.1, affine=True, track_running_stats=True)\n",
       "      )\n",
       "    )\n",
       "    (1): Bottleneck(\n",
       "      (conv1): Conv2d(256, 64, kernel_size=(1, 1), stride=(1, 1), bias=False)\n",
       "      (bn1): BatchNorm2d(64, eps=1e-05, momentum=0.1, affine=True, track_running_stats=True)\n",
       "      (conv2): Conv2d(64, 64, kernel_size=(3, 3), stride=(1, 1), padding=(1, 1), bias=False)\n",
       "      (bn2): BatchNorm2d(64, eps=1e-05, momentum=0.1, affine=True, track_running_stats=True)\n",
       "      (conv3): Conv2d(64, 256, kernel_size=(1, 1), stride=(1, 1), bias=False)\n",
       "      (bn3): BatchNorm2d(256, eps=1e-05, momentum=0.1, affine=True, track_running_stats=True)\n",
       "      (relu): ReLU(inplace=True)\n",
       "    )\n",
       "    (2): Bottleneck(\n",
       "      (conv1): Conv2d(256, 64, kernel_size=(1, 1), stride=(1, 1), bias=False)\n",
       "      (bn1): BatchNorm2d(64, eps=1e-05, momentum=0.1, affine=True, track_running_stats=True)\n",
       "      (conv2): Conv2d(64, 64, kernel_size=(3, 3), stride=(1, 1), padding=(1, 1), bias=False)\n",
       "      (bn2): BatchNorm2d(64, eps=1e-05, momentum=0.1, affine=True, track_running_stats=True)\n",
       "      (conv3): Conv2d(64, 256, kernel_size=(1, 1), stride=(1, 1), bias=False)\n",
       "      (bn3): BatchNorm2d(256, eps=1e-05, momentum=0.1, affine=True, track_running_stats=True)\n",
       "      (relu): ReLU(inplace=True)\n",
       "    )\n",
       "  )\n",
       "  (layer2): Sequential(\n",
       "    (0): Bottleneck(\n",
       "      (conv1): Conv2d(256, 128, kernel_size=(1, 1), stride=(1, 1), bias=False)\n",
       "      (bn1): BatchNorm2d(128, eps=1e-05, momentum=0.1, affine=True, track_running_stats=True)\n",
       "      (conv2): Conv2d(128, 128, kernel_size=(3, 3), stride=(2, 2), padding=(1, 1), bias=False)\n",
       "      (bn2): BatchNorm2d(128, eps=1e-05, momentum=0.1, affine=True, track_running_stats=True)\n",
       "      (conv3): Conv2d(128, 512, kernel_size=(1, 1), stride=(1, 1), bias=False)\n",
       "      (bn3): BatchNorm2d(512, eps=1e-05, momentum=0.1, affine=True, track_running_stats=True)\n",
       "      (relu): ReLU(inplace=True)\n",
       "      (downsample): Sequential(\n",
       "        (0): Conv2d(256, 512, kernel_size=(1, 1), stride=(2, 2), bias=False)\n",
       "        (1): BatchNorm2d(512, eps=1e-05, momentum=0.1, affine=True, track_running_stats=True)\n",
       "      )\n",
       "    )\n",
       "    (1): Bottleneck(\n",
       "      (conv1): Conv2d(512, 128, kernel_size=(1, 1), stride=(1, 1), bias=False)\n",
       "      (bn1): BatchNorm2d(128, eps=1e-05, momentum=0.1, affine=True, track_running_stats=True)\n",
       "      (conv2): Conv2d(128, 128, kernel_size=(3, 3), stride=(1, 1), padding=(1, 1), bias=False)\n",
       "      (bn2): BatchNorm2d(128, eps=1e-05, momentum=0.1, affine=True, track_running_stats=True)\n",
       "      (conv3): Conv2d(128, 512, kernel_size=(1, 1), stride=(1, 1), bias=False)\n",
       "      (bn3): BatchNorm2d(512, eps=1e-05, momentum=0.1, affine=True, track_running_stats=True)\n",
       "      (relu): ReLU(inplace=True)\n",
       "    )\n",
       "    (2): Bottleneck(\n",
       "      (conv1): Conv2d(512, 128, kernel_size=(1, 1), stride=(1, 1), bias=False)\n",
       "      (bn1): BatchNorm2d(128, eps=1e-05, momentum=0.1, affine=True, track_running_stats=True)\n",
       "      (conv2): Conv2d(128, 128, kernel_size=(3, 3), stride=(1, 1), padding=(1, 1), bias=False)\n",
       "      (bn2): BatchNorm2d(128, eps=1e-05, momentum=0.1, affine=True, track_running_stats=True)\n",
       "      (conv3): Conv2d(128, 512, kernel_size=(1, 1), stride=(1, 1), bias=False)\n",
       "      (bn3): BatchNorm2d(512, eps=1e-05, momentum=0.1, affine=True, track_running_stats=True)\n",
       "      (relu): ReLU(inplace=True)\n",
       "    )\n",
       "    (3): Bottleneck(\n",
       "      (conv1): Conv2d(512, 128, kernel_size=(1, 1), stride=(1, 1), bias=False)\n",
       "      (bn1): BatchNorm2d(128, eps=1e-05, momentum=0.1, affine=True, track_running_stats=True)\n",
       "      (conv2): Conv2d(128, 128, kernel_size=(3, 3), stride=(1, 1), padding=(1, 1), bias=False)\n",
       "      (bn2): BatchNorm2d(128, eps=1e-05, momentum=0.1, affine=True, track_running_stats=True)\n",
       "      (conv3): Conv2d(128, 512, kernel_size=(1, 1), stride=(1, 1), bias=False)\n",
       "      (bn3): BatchNorm2d(512, eps=1e-05, momentum=0.1, affine=True, track_running_stats=True)\n",
       "      (relu): ReLU(inplace=True)\n",
       "    )\n",
       "  )\n",
       "  (layer3): Sequential(\n",
       "    (0): Bottleneck(\n",
       "      (conv1): Conv2d(512, 256, kernel_size=(1, 1), stride=(1, 1), bias=False)\n",
       "      (bn1): BatchNorm2d(256, eps=1e-05, momentum=0.1, affine=True, track_running_stats=True)\n",
       "      (conv2): Conv2d(256, 256, kernel_size=(3, 3), stride=(2, 2), padding=(1, 1), bias=False)\n",
       "      (bn2): BatchNorm2d(256, eps=1e-05, momentum=0.1, affine=True, track_running_stats=True)\n",
       "      (conv3): Conv2d(256, 1024, kernel_size=(1, 1), stride=(1, 1), bias=False)\n",
       "      (bn3): BatchNorm2d(1024, eps=1e-05, momentum=0.1, affine=True, track_running_stats=True)\n",
       "      (relu): ReLU(inplace=True)\n",
       "      (downsample): Sequential(\n",
       "        (0): Conv2d(512, 1024, kernel_size=(1, 1), stride=(2, 2), bias=False)\n",
       "        (1): BatchNorm2d(1024, eps=1e-05, momentum=0.1, affine=True, track_running_stats=True)\n",
       "      )\n",
       "    )\n",
       "    (1): Bottleneck(\n",
       "      (conv1): Conv2d(1024, 256, kernel_size=(1, 1), stride=(1, 1), bias=False)\n",
       "      (bn1): BatchNorm2d(256, eps=1e-05, momentum=0.1, affine=True, track_running_stats=True)\n",
       "      (conv2): Conv2d(256, 256, kernel_size=(3, 3), stride=(1, 1), padding=(1, 1), bias=False)\n",
       "      (bn2): BatchNorm2d(256, eps=1e-05, momentum=0.1, affine=True, track_running_stats=True)\n",
       "      (conv3): Conv2d(256, 1024, kernel_size=(1, 1), stride=(1, 1), bias=False)\n",
       "      (bn3): BatchNorm2d(1024, eps=1e-05, momentum=0.1, affine=True, track_running_stats=True)\n",
       "      (relu): ReLU(inplace=True)\n",
       "    )\n",
       "    (2): Bottleneck(\n",
       "      (conv1): Conv2d(1024, 256, kernel_size=(1, 1), stride=(1, 1), bias=False)\n",
       "      (bn1): BatchNorm2d(256, eps=1e-05, momentum=0.1, affine=True, track_running_stats=True)\n",
       "      (conv2): Conv2d(256, 256, kernel_size=(3, 3), stride=(1, 1), padding=(1, 1), bias=False)\n",
       "      (bn2): BatchNorm2d(256, eps=1e-05, momentum=0.1, affine=True, track_running_stats=True)\n",
       "      (conv3): Conv2d(256, 1024, kernel_size=(1, 1), stride=(1, 1), bias=False)\n",
       "      (bn3): BatchNorm2d(1024, eps=1e-05, momentum=0.1, affine=True, track_running_stats=True)\n",
       "      (relu): ReLU(inplace=True)\n",
       "    )\n",
       "    (3): Bottleneck(\n",
       "      (conv1): Conv2d(1024, 256, kernel_size=(1, 1), stride=(1, 1), bias=False)\n",
       "      (bn1): BatchNorm2d(256, eps=1e-05, momentum=0.1, affine=True, track_running_stats=True)\n",
       "      (conv2): Conv2d(256, 256, kernel_size=(3, 3), stride=(1, 1), padding=(1, 1), bias=False)\n",
       "      (bn2): BatchNorm2d(256, eps=1e-05, momentum=0.1, affine=True, track_running_stats=True)\n",
       "      (conv3): Conv2d(256, 1024, kernel_size=(1, 1), stride=(1, 1), bias=False)\n",
       "      (bn3): BatchNorm2d(1024, eps=1e-05, momentum=0.1, affine=True, track_running_stats=True)\n",
       "      (relu): ReLU(inplace=True)\n",
       "    )\n",
       "    (4): Bottleneck(\n",
       "      (conv1): Conv2d(1024, 256, kernel_size=(1, 1), stride=(1, 1), bias=False)\n",
       "      (bn1): BatchNorm2d(256, eps=1e-05, momentum=0.1, affine=True, track_running_stats=True)\n",
       "      (conv2): Conv2d(256, 256, kernel_size=(3, 3), stride=(1, 1), padding=(1, 1), bias=False)\n",
       "      (bn2): BatchNorm2d(256, eps=1e-05, momentum=0.1, affine=True, track_running_stats=True)\n",
       "      (conv3): Conv2d(256, 1024, kernel_size=(1, 1), stride=(1, 1), bias=False)\n",
       "      (bn3): BatchNorm2d(1024, eps=1e-05, momentum=0.1, affine=True, track_running_stats=True)\n",
       "      (relu): ReLU(inplace=True)\n",
       "    )\n",
       "    (5): Bottleneck(\n",
       "      (conv1): Conv2d(1024, 256, kernel_size=(1, 1), stride=(1, 1), bias=False)\n",
       "      (bn1): BatchNorm2d(256, eps=1e-05, momentum=0.1, affine=True, track_running_stats=True)\n",
       "      (conv2): Conv2d(256, 256, kernel_size=(3, 3), stride=(1, 1), padding=(1, 1), bias=False)\n",
       "      (bn2): BatchNorm2d(256, eps=1e-05, momentum=0.1, affine=True, track_running_stats=True)\n",
       "      (conv3): Conv2d(256, 1024, kernel_size=(1, 1), stride=(1, 1), bias=False)\n",
       "      (bn3): BatchNorm2d(1024, eps=1e-05, momentum=0.1, affine=True, track_running_stats=True)\n",
       "      (relu): ReLU(inplace=True)\n",
       "    )\n",
       "  )\n",
       "  (layer4): Sequential(\n",
       "    (0): Bottleneck(\n",
       "      (conv1): Conv2d(1024, 512, kernel_size=(1, 1), stride=(1, 1), bias=False)\n",
       "      (bn1): BatchNorm2d(512, eps=1e-05, momentum=0.1, affine=True, track_running_stats=True)\n",
       "      (conv2): Conv2d(512, 512, kernel_size=(3, 3), stride=(2, 2), padding=(1, 1), bias=False)\n",
       "      (bn2): BatchNorm2d(512, eps=1e-05, momentum=0.1, affine=True, track_running_stats=True)\n",
       "      (conv3): Conv2d(512, 2048, kernel_size=(1, 1), stride=(1, 1), bias=False)\n",
       "      (bn3): BatchNorm2d(2048, eps=1e-05, momentum=0.1, affine=True, track_running_stats=True)\n",
       "      (relu): ReLU(inplace=True)\n",
       "      (downsample): Sequential(\n",
       "        (0): Conv2d(1024, 2048, kernel_size=(1, 1), stride=(2, 2), bias=False)\n",
       "        (1): BatchNorm2d(2048, eps=1e-05, momentum=0.1, affine=True, track_running_stats=True)\n",
       "      )\n",
       "    )\n",
       "    (1): Bottleneck(\n",
       "      (conv1): Conv2d(2048, 512, kernel_size=(1, 1), stride=(1, 1), bias=False)\n",
       "      (bn1): BatchNorm2d(512, eps=1e-05, momentum=0.1, affine=True, track_running_stats=True)\n",
       "      (conv2): Conv2d(512, 512, kernel_size=(3, 3), stride=(1, 1), padding=(1, 1), bias=False)\n",
       "      (bn2): BatchNorm2d(512, eps=1e-05, momentum=0.1, affine=True, track_running_stats=True)\n",
       "      (conv3): Conv2d(512, 2048, kernel_size=(1, 1), stride=(1, 1), bias=False)\n",
       "      (bn3): BatchNorm2d(2048, eps=1e-05, momentum=0.1, affine=True, track_running_stats=True)\n",
       "      (relu): ReLU(inplace=True)\n",
       "    )\n",
       "    (2): Bottleneck(\n",
       "      (conv1): Conv2d(2048, 512, kernel_size=(1, 1), stride=(1, 1), bias=False)\n",
       "      (bn1): BatchNorm2d(512, eps=1e-05, momentum=0.1, affine=True, track_running_stats=True)\n",
       "      (conv2): Conv2d(512, 512, kernel_size=(3, 3), stride=(1, 1), padding=(1, 1), bias=False)\n",
       "      (bn2): BatchNorm2d(512, eps=1e-05, momentum=0.1, affine=True, track_running_stats=True)\n",
       "      (conv3): Conv2d(512, 2048, kernel_size=(1, 1), stride=(1, 1), bias=False)\n",
       "      (bn3): BatchNorm2d(2048, eps=1e-05, momentum=0.1, affine=True, track_running_stats=True)\n",
       "      (relu): ReLU(inplace=True)\n",
       "    )\n",
       "  )\n",
       "  (avgpool): AdaptiveAvgPool2d(output_size=(1, 1))\n",
       "  (fc): Linear(in_features=2048, out_features=2, bias=True)\n",
       ")"
      ]
     },
     "execution_count": 89,
     "metadata": {},
     "output_type": "execute_result"
    }
   ],
   "source": [
    "model_ft.eval()"
   ]
  },
  {
   "cell_type": "code",
   "execution_count": 80,
   "metadata": {},
   "outputs": [],
   "source": [
    "torch.save(model_ft.state_dict(), '/home/ec2-user/SageMaker/models/frame_150_balanced.pth')"
   ]
  },
  {
   "cell_type": "code",
   "execution_count": 81,
   "metadata": {
    "collapsed": false,
    "jupyter": {
     "outputs_hidden": false
    }
   },
   "outputs": [
    {
     "data": {
      "image/png": "[encoded data removed]",
      "text/plain": [
       "<Figure size 432x288 with 1 Axes>"
      ]
     },
     "metadata": {},
     "output_type": "display_data"
    },
    {
     "data": {
      "image/png": "[encoded data removed]",
      "text/plain": [
       "<Figure size 432x288 with 1 Axes>"
      ]
     },
     "metadata": {},
     "output_type": "display_data"
    },
    {
     "data": {
      "image/png": "[encoded data removed]",
      "text/plain": [
       "<Figure size 432x288 with 1 Axes>"
      ]
     },
     "metadata": {},
     "output_type": "display_data"
    },
    {
     "data": {
      "image/png": "[encoded data removed]",
      "text/plain": [
       "<Figure size 432x288 with 1 Axes>"
      ]
     },
     "metadata": {},
     "output_type": "display_data"
    },
    {
     "data": {
      "image/png": "[encoded data removed]",
      "text/plain": [
       "<Figure size 432x288 with 1 Axes>"
      ]
     },
     "metadata": {},
     "output_type": "display_data"
    },
    {
     "data": {
      "image/png": "[encoded data removed]",
      "text/plain": [
       "<Figure size 432x288 with 1 Axes>"
      ]
     },
     "metadata": {},
     "output_type": "display_data"
    }
   ],
   "source": [
    "visualize_model(model_ft)"
   ]
  },
  {
   "cell_type": "markdown",
   "metadata": {},
   "source": [
    "ConvNet as fixed feature extractor\n",
    "----------------------------------\n",
    "\n",
    "Here, we need to freeze all the network except the final layer. We need\n",
    "to set ``requires_grad == False`` to freeze the parameters so that the\n",
    "gradients are not computed in ``backward()``.\n",
    "\n",
    "You can read more about this in the documentation\n",
    "`here <https://pytorch.org/docs/notes/autograd.html#excluding-subgraphs-from-backward>`__.\n",
    "\n",
    "\n"
   ]
  },
  {
   "cell_type": "code",
   "execution_count": 83,
   "metadata": {
    "collapsed": false,
    "jupyter": {
     "outputs_hidden": false
    }
   },
   "outputs": [],
   "source": [
    "model_conv = torchvision.models.resnet18(pretrained=True)\n",
    "for param in model_conv.parameters():\n",
    "    param.requires_grad = False\n",
    "\n",
    "# Parameters of newly constructed modules have requires_grad=True by default\n",
    "num_ftrs = model_conv.fc.in_features\n",
    "model_conv.fc = nn.Linear(num_ftrs, 2)\n",
    "\n",
    "model_conv = model_conv.to(device)\n",
    "\n",
    "criterion = nn.CrossEntropyLoss()\n",
    "\n",
    "# Observe that only parameters of final layer are being optimized as\n",
    "# opposed to before.\n",
    "optimizer_conv = optim.SGD(model_conv.fc.parameters(), lr=0.001, momentum=0.9)\n",
    "\n",
    "# Decay LR by a factor of 0.1 every 7 epochs\n",
    "exp_lr_scheduler = lr_scheduler.StepLR(optimizer_conv, step_size=7, gamma=0.1)"
   ]
  },
  {
   "cell_type": "markdown",
   "metadata": {},
   "source": [
    "Train and evaluate\n",
    "^^^^^^^^^^^^^^^^^^\n",
    "\n",
    "On CPU this will take about half the time compared to previous scenario.\n",
    "This is expected as gradients don't need to be computed for most of the\n",
    "network. However, forward does need to be computed.\n",
    "\n",
    "\n"
   ]
  },
  {
   "cell_type": "code",
   "execution_count": 84,
   "metadata": {
    "collapsed": false,
    "jupyter": {
     "outputs_hidden": false
    }
   },
   "outputs": [
    {
     "name": "stdout",
     "output_type": "stream",
     "text": [
      "Epoch 0/5\n",
      "----------\n",
      "train Loss: 0.6239 Acc: 0.6522\n",
      "val Loss: 0.7627 Acc: 0.5289\n",
      "\n",
      "Epoch 1/5\n",
      "----------\n",
      "train Loss: 0.6093 Acc: 0.6679\n",
      "val Loss: 0.6774 Acc: 0.6087\n",
      "\n",
      "Epoch 2/5\n",
      "----------\n",
      "train Loss: 0.6037 Acc: 0.6752\n",
      "val Loss: 0.6610 Acc: 0.6166\n",
      "\n",
      "Epoch 3/5\n",
      "----------\n",
      "train Loss: 0.6011 Acc: 0.6748\n",
      "val Loss: 0.6034 Acc: 0.6693\n",
      "\n",
      "Epoch 4/5\n",
      "----------\n",
      "train Loss: 0.6020 Acc: 0.6748\n",
      "val Loss: 0.6575 Acc: 0.6225\n",
      "\n",
      "Epoch 5/5\n",
      "----------\n",
      "train Loss: 0.6044 Acc: 0.6729\n",
      "val Loss: 0.4733 Acc: 0.7842\n",
      "\n",
      "Training complete in 6m 19s\n",
      "Best val Acc: 0.784151\n"
     ]
    }
   ],
   "source": [
    "model_conv = train_model(model_conv, criterion, optimizer_conv,\n",
    "                         exp_lr_scheduler, num_epochs=6)"
   ]
  },
  {
   "cell_type": "code",
   "execution_count": 85,
   "metadata": {
    "collapsed": false,
    "jupyter": {
     "outputs_hidden": false
    }
   },
   "outputs": [
    {
     "data": {
      "image/png": "[encoded data removed]",
      "text/plain": [
       "<Figure size 432x288 with 1 Axes>"
      ]
     },
     "metadata": {},
     "output_type": "display_data"
    },
    {
     "data": {
      "image/png": "[encoded data removed]",
      "text/plain": [
       "<Figure size 432x288 with 1 Axes>"
      ]
     },
     "metadata": {},
     "output_type": "display_data"
    },
    {
     "data": {
      "image/png": "[encoded data removed]",
      "text/plain": [
       "<Figure size 432x288 with 1 Axes>"
      ]
     },
     "metadata": {},
     "output_type": "display_data"
    },
    {
     "data": {
      "image/png": "[encoded data removed]",
      "text/plain": [
       "<Figure size 432x288 with 1 Axes>"
      ]
     },
     "metadata": {},
     "output_type": "display_data"
    },
    {
     "data": {
      "image/png": "[encoded data removed]",
      "text/plain": [
       "<Figure size 432x288 with 1 Axes>"
      ]
     },
     "metadata": {},
     "output_type": "display_data"
    },
    {
     "data": {
      "image/png": "[encoded data removed]",
      "text/plain": [
       "<Figure size 432x288 with 1 Axes>"
      ]
     },
     "metadata": {},
     "output_type": "display_data"
    }
   ],
   "source": [
    "visualize_model(model_conv)\n",
    "\n",
    "plt.ioff()\n",
    "plt.show()"
   ]
  },
  {
   "cell_type": "code",
   "execution_count": null,
   "metadata": {},
   "outputs": [],
   "source": []
  },
  {
   "cell_type": "code",
   "execution_count": null,
   "metadata": {},
   "outputs": [],
   "source": []
  },
  {
   "cell_type": "code",
   "execution_count": null,
   "metadata": {},
   "outputs": [],
   "source": []
  }
 ],
 "metadata": {
  "kernelspec": {
   "display_name": "Python 3",
   "language": "python",
   "name": "fastai"
  },
  "language_info": {
   "codemirror_mode": {
    "name": "ipython",
    "version": 3
   },
   "file_extension": ".py",
   "mimetype": "text/x-python",
   "name": "python",
   "nbconvert_exporter": "python",
   "pygments_lexer": "ipython3",
   "version": "3.6.5"
  }
 },
 "nbformat": 4,
 "nbformat_minor": 4
}
