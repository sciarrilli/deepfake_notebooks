{
 "cells": [
  {
   "cell_type": "markdown",
   "metadata": {},
   "source": [
    "# Deepfake Detection Challenge"
   ]
  },
  {
   "cell_type": "markdown",
   "metadata": {},
   "source": [
    "1. Download dataset by using chrome inspector. Click the 'all.zip' and cancel the download. Then in chrome inspector use copy as cURL to copy to SageMaker\n",
    "2. Figure out opencv to convert the mp4's to images\n",
    "3. Balance out the dataset since it has more fakes than reals."
   ]
  },
  {
   "cell_type": "code",
   "execution_count": 14,
   "metadata": {},
   "outputs": [],
   "source": [
    "%reload_ext autoreload\n",
    "%autoreload 2\n",
    "%matplotlib inline"
   ]
  },
  {
   "cell_type": "code",
   "execution_count": 15,
   "metadata": {},
   "outputs": [],
   "source": [
    "from fastai.vision import *\n",
    "import json\n",
    "import pandas as pd\n",
    "import cv2\n",
    "import os\n",
    "\n",
    "video_path = '/home/ec2-user/.fastai/data/sample/train_sample_videos'\n",
    "image_path = os.makedirs(os.path.join(video_path, 'images'), exist_ok=True)\n",
    "\n",
    "labels = pd.read_json(open(os.path.join(video_path,'metadata.json')))\n",
    "labels = labels.transpose()\n",
    "labels['filename'] = labels.axes[0].tolist()\n",
    "cols = ['filename','label','split','original']\n",
    "labels = labels[cols]\n",
    "labels.index = list(range(labels.shape[0]))\n",
    "labels.to_csv(os.path.join(video_path, 'labels.csv'))\n",
    "video_list = labels['filename']"
   ]
  },
  {
   "cell_type": "code",
   "execution_count": 16,
   "metadata": {},
   "outputs": [
    {
     "data": {
      "text/plain": [
       "train    400\n",
       "Name: split, dtype: int64"
      ]
     },
     "execution_count": 16,
     "metadata": {},
     "output_type": "execute_result"
    }
   ],
   "source": [
    "labels['split'].value_counts()"
   ]
  },
  {
   "cell_type": "code",
   "execution_count": 17,
   "metadata": {},
   "outputs": [
    {
     "data": {
      "text/html": [
       "<div>\n",
       "<style scoped>\n",
       "    .dataframe tbody tr th:only-of-type {\n",
       "        vertical-align: middle;\n",
       "    }\n",
       "\n",
       "    .dataframe tbody tr th {\n",
       "        vertical-align: top;\n",
       "    }\n",
       "\n",
       "    .dataframe thead th {\n",
       "        text-align: right;\n",
       "    }\n",
       "</style>\n",
       "<table border=\"1\" class=\"dataframe\">\n",
       "  <thead>\n",
       "    <tr style=\"text-align: right;\">\n",
       "      <th></th>\n",
       "      <th>filename</th>\n",
       "      <th>label</th>\n",
       "      <th>split</th>\n",
       "      <th>original</th>\n",
       "    </tr>\n",
       "  </thead>\n",
       "  <tbody>\n",
       "    <tr>\n",
       "      <th>count</th>\n",
       "      <td>400</td>\n",
       "      <td>400</td>\n",
       "      <td>400</td>\n",
       "      <td>323</td>\n",
       "    </tr>\n",
       "    <tr>\n",
       "      <th>unique</th>\n",
       "      <td>400</td>\n",
       "      <td>2</td>\n",
       "      <td>1</td>\n",
       "      <td>209</td>\n",
       "    </tr>\n",
       "    <tr>\n",
       "      <th>top</th>\n",
       "      <td>cqhngvpgyi.mp4</td>\n",
       "      <td>FAKE</td>\n",
       "      <td>train</td>\n",
       "      <td>atvmxvwyns.mp4</td>\n",
       "    </tr>\n",
       "    <tr>\n",
       "      <th>freq</th>\n",
       "      <td>1</td>\n",
       "      <td>323</td>\n",
       "      <td>400</td>\n",
       "      <td>6</td>\n",
       "    </tr>\n",
       "  </tbody>\n",
       "</table>\n",
       "</div>"
      ],
      "text/plain": [
       "              filename label  split        original\n",
       "count              400   400    400             323\n",
       "unique             400     2      1             209\n",
       "top     cqhngvpgyi.mp4  FAKE  train  atvmxvwyns.mp4\n",
       "freq                 1   323    400               6"
      ]
     },
     "execution_count": 17,
     "metadata": {},
     "output_type": "execute_result"
    }
   ],
   "source": [
    "labels.describe()"
   ]
  },
  {
   "cell_type": "code",
   "execution_count": null,
   "metadata": {},
   "outputs": [],
   "source": [
    "def videoConverter(video):\n",
    "    vidcap = cv2.VideoCapture(os.path.join(video_path,video))\n",
    "    def getFrame(sec):\n",
    "        vidcap.set(cv2.CAP_PROP_POS_MSEC,sec*1000)\n",
    "        hasFrames,image = vidcap.read()\n",
    "        if hasFrames:\n",
    "            image_path = '/home/ec2-user/.fastai/data/sample/train_sample_videos/images/'\n",
    "            cv2.imwrite(os.path.join(image_path, video + '_' + str(count) + \".jpg\"), image)\n",
    "        return hasFrames\n",
    "    sec = 0\n",
    "    frameRate = 0.5 #//it will capture image in each 0.5 second\n",
    "    count=1\n",
    "    success = getFrame(sec)\n",
    "    while success:\n",
    "        count = count + 1\n",
    "        sec = sec + frameRate\n",
    "        sec = round(sec, 2)\n",
    "        success = getFrame(sec)\n",
    "\n",
    "        \n",
    "for video in video_list:\n",
    "    videoConverter(video)"
   ]
  },
  {
   "cell_type": "code",
   "execution_count": 3,
   "metadata": {},
   "outputs": [
    {
     "data": {
      "text/plain": [
       "list"
      ]
     },
     "execution_count": 3,
     "metadata": {},
     "output_type": "execute_result"
    }
   ],
   "source": [
    "type(dir_list)"
   ]
  },
  {
   "cell_type": "code",
   "execution_count": 8,
   "metadata": {},
   "outputs": [],
   "source": [
    "#dir_list.remove('all.zip')\n",
    "dir_list.remove('sample')\n",
    "dir_list.remove('dfdc_train_part_0')"
   ]
  },
  {
   "cell_type": "code",
   "execution_count": 9,
   "metadata": {},
   "outputs": [
    {
     "data": {
      "text/plain": [
       "['dfdc_train_part_25.zip',\n",
       " 'dfdc_train_part_47.zip',\n",
       " 'dfdc_train_part_17.zip',\n",
       " 'dfdc_train_part_35.zip',\n",
       " 'dfdc_train_part_19.zip',\n",
       " 'dfdc_train_part_41.zip',\n",
       " 'dfdc_train_part_28.zip',\n",
       " 'dfdc_train_part_34.zip',\n",
       " 'dfdc_train_part_39.zip',\n",
       " 'dfdc_train_part_44.zip',\n",
       " 'dfdc_train_part_43.zip',\n",
       " 'dfdc_train_part_42.zip',\n",
       " 'dfdc_train_part_00.zip',\n",
       " 'dfdc_train_part_26.zip',\n",
       " 'dfdc_train_part_45.zip',\n",
       " 'dfdc_train_part_10.zip',\n",
       " 'dfdc_train_part_27.zip',\n",
       " 'dfdc_train_part_32.zip',\n",
       " 'dfdc_train_part_12.zip',\n",
       " 'dfdc_train_part_13.zip',\n",
       " 'dfdc_train_part_21.zip',\n",
       " 'dfdc_train_part_05.zip',\n",
       " 'dfdc_train_part_29.zip',\n",
       " 'dfdc_train_part_33.zip',\n",
       " 'dfdc_train_part_15.zip',\n",
       " 'dfdc_train_part_20.zip',\n",
       " 'dfdc_train_part_37.zip',\n",
       " 'dfdc_train_part_36.zip',\n",
       " 'dfdc_train_part_22.zip',\n",
       " 'dfdc_train_part_16.zip',\n",
       " 'dfdc_train_part_30.zip',\n",
       " 'dfdc_train_part_03.zip',\n",
       " 'dfdc_train_part_07.zip',\n",
       " 'dfdc_train_part_48.zip',\n",
       " 'dfdc_train_part_09.zip',\n",
       " 'dfdc_train_part_23.zip',\n",
       " 'dfdc_train_part_06.zip',\n",
       " 'dfdc_train_part_11.zip',\n",
       " 'dfdc_train_part_04.zip',\n",
       " 'dfdc_train_part_01.zip',\n",
       " 'dfdc_train_part_49.zip',\n",
       " 'dfdc_train_part_14.zip',\n",
       " 'dfdc_train_part_02.zip',\n",
       " 'dfdc_train_part_08.zip',\n",
       " 'dfdc_train_part_31.zip',\n",
       " 'dfdc_train_part_46.zip',\n",
       " 'dfdc_train_part_38.zip',\n",
       " 'dfdc_train_part_24.zip',\n",
       " 'dfdc_train_part_18.zip',\n",
       " 'dfdc_train_part_40.zip']"
      ]
     },
     "execution_count": 9,
     "metadata": {},
     "output_type": "execute_result"
    }
   ],
   "source": [
    "dir_list"
   ]
  },
  {
   "cell_type": "code",
   "execution_count": null,
   "metadata": {},
   "outputs": [],
   "source": []
  }
 ],
 "metadata": {
  "kernelspec": {
   "display_name": "conda_pytorch_p36",
   "language": "python",
   "name": "conda_pytorch_p36"
  },
  "language_info": {
   "codemirror_mode": {
    "name": "ipython",
    "version": 3
   },
   "file_extension": ".py",
   "mimetype": "text/x-python",
   "name": "python",
   "nbconvert_exporter": "python",
   "pygments_lexer": "ipython3",
   "version": "3.6.5"
  }
 },
 "nbformat": 4,
 "nbformat_minor": 4
}
