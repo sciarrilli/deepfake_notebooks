{
 "cells": [
  {
   "cell_type": "markdown",
   "metadata": {},
   "source": [
    "# Preprocessing v3"
   ]
  },
  {
   "cell_type": "code",
   "execution_count": 2,
   "metadata": {},
   "outputs": [],
   "source": [
    "import cv2\n",
    "import numpy as np \n",
    "import os\n",
    "from joblib import Parallel, delayed\n",
    "from PIL import Image\n",
    "import torch\n",
    "from facenet_pytorch import MTCNN\n",
    "\n",
    "device = 'cuda:0' if torch.cuda.is_available() else 'cpu'\n",
    "detector = MTCNN(image_size=224, device=device, post_process=False)\n",
    "\n",
    "# list of videos\n",
    "video_path = '/home/ec2-user/SageMaker/data/deepfake/dfdc_train_part_0'\n",
    "video_fnames = os.listdir(video_path)\n",
    "videos = []\n",
    "for fname in video_fnames:\n",
    "    videos.append(os.path.join(video_path, fname))\n",
    "\n",
    "\n",
    "# set output path\n",
    "path = '/home/ec2-user/SageMaker/data/frames_17x'\n",
    "os.makedirs(path, exist_ok=True)\n",
    "\n",
    "# frame indices to grab\n",
    "frame_idxs = [i for i in range(17, 300, 17)]"
   ]
  },
  {
   "cell_type": "code",
   "execution_count": 3,
   "metadata": {},
   "outputs": [],
   "source": [
    "def read_frames_at_indices(videos, frame_idxs):\n",
    "    images = {}\n",
    "    for video in videos:\n",
    "        for frame_num in frame_idxs:\n",
    "            images.update(grab_frames(video, frame_num))\n",
    "    return images\n",
    "\n",
    "\n",
    "def grab_frames(video, frame_num):\n",
    "    #video = os.path.join(video_dir, sample)\n",
    "    filename = video[:-4]+'_'+ str(frame_num) +'.jpg'\n",
    "    reader = cv2.VideoCapture(video)\n",
    "    reader.set(1, frame_num)\n",
    "    _, image = reader.read()\n",
    "    images = {}\n",
    "    images[filename] = image\n",
    "    #image = cv2.cvtColor(image, cv2.COLOR_BGR2RGB)\n",
    "    # cv2.imwrite(filename, image)\n",
    "    #images_dict = {}\n",
    "    #images_dict[filename] = image\n",
    "    reader.release()\n",
    "    return images\n",
    "\n",
    "\n",
    "def multiprocess_read_frames_at_indices(videos, frame_idxs, job_num):\n",
    "    results = Parallel(n_jobs=job_num)(delayed(grab_frames)(video, frame_num) \n",
    "        for video in videos for frame_num in frame_idxs)\n",
    "    images = {}\n",
    "    for item in results:\n",
    "        images.update(item)\n",
    "    return images\n",
    "\n",
    "\n",
    "def detect_facenet_pytorch(detector, images):\n",
    "    faces = {}\n",
    "    for key in images.keys():\n",
    "        imgs_pil = Image.fromarray(images[key])\n",
    "        try:\n",
    "            faces.update( {key: detector(imgs_pil)} )\n",
    "        except:\n",
    "            pass\n",
    "    return faces\n",
    "\n",
    "\n",
    "def write_images_to_disk(path, faces):\n",
    "    for face in faces.keys():\n",
    "        try:\n",
    "            image = faces[face].permute(1, 2, 0).int().numpy()\n",
    "            jpg = face.split('/')[-1]\n",
    "            filename = os.path.join(path, jpg)\n",
    "            cv2.imwrite(filename, image)\n",
    "        except:\n",
    "            faces[face] = 'no face detected'\n",
    "            pass"
   ]
  },
  {
   "cell_type": "code",
   "execution_count": 4,
   "metadata": {},
   "outputs": [],
   "source": [
    "# for single processing\n",
    "# images = read_frames_at_indices(videos, frame_idxs)\n",
    "\n",
    "# for multiprocessing\n",
    "images = multiprocess_read_frames_at_indices(videos[100:200], frame_idxs, 4)\n"
   ]
  },
  {
   "cell_type": "code",
   "execution_count": 5,
   "metadata": {},
   "outputs": [],
   "source": [
    "# detect faces and crop\n",
    "faces = detect_facenet_pytorch(detector, images)\n",
    "\n",
    "# save to disk\n",
    "write_images_to_disk(path, faces)"
   ]
  },
  {
   "cell_type": "code",
   "execution_count": 6,
   "metadata": {},
   "outputs": [
    {
     "data": {
      "text/plain": [
       "\"\\nimport boto3\\n\\nsns = boto3.client('sns')\\nresponse = sns.publish(\\n    TopicArn='arn:aws:sns:us-east-1:364430515305:deepfake',\\n    Message='finished processing v3'\\n)\\n\""
      ]
     },
     "execution_count": 6,
     "metadata": {},
     "output_type": "execute_result"
    }
   ],
   "source": [
    "\n",
    "import boto3\n",
    "\n",
    "sns = boto3.client('sns')\n",
    "response = sns.publish(\n",
    "    TopicArn='arn:aws:sns:us-east-1:364430515305:deepfake',\n",
    "    Message='finished processing v3'\n",
    ")\n"
   ]
  },
  {
   "cell_type": "code",
   "execution_count": null,
   "metadata": {},
   "outputs": [],
   "source": []
  }
 ],
 "metadata": {
  "kernelspec": {
   "display_name": "Python 3",
   "language": "python",
   "name": "fastai"
  },
  "language_info": {
   "codemirror_mode": {
    "name": "ipython",
    "version": 3
   },
   "file_extension": ".py",
   "mimetype": "text/x-python",
   "name": "python",
   "nbconvert_exporter": "python",
   "pygments_lexer": "ipython3",
   "version": "3.6.5"
  }
 },
 "nbformat": 4,
 "nbformat_minor": 4
}
