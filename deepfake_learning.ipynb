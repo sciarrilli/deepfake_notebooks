{
 "cells": [
  {
   "cell_type": "code",
   "execution_count": 1,
   "metadata": {},
   "outputs": [],
   "source": [
    "import json\n",
    "import os\n",
    "import numpy as np\n",
    "import pandas as pd\n",
    "import torch\n",
    "import torch.nn as nn\n",
    "import torch.nn.functional as F\n",
    "import torchvision.transforms.functional as t_F\n",
    "import torchvision.models as models\n",
    "import torchvision.transforms as transforms\n",
    "import torch.utils.data as data\n",
    "import torchvision\n",
    "from torch.autograd import Variable\n",
    "from torch.utils.data import Dataset\n",
    "import cv2\n",
    "\n",
    "import matplotlib.pyplot as plt\n",
    "from sklearn.model_selection import train_test_split\n",
    "from sklearn.preprocessing import OneHotEncoder, LabelEncoder\n",
    "from sklearn.metrics import accuracy_score"
   ]
  },
  {
   "cell_type": "code",
   "execution_count": 57,
   "metadata": {},
   "outputs": [],
   "source": [
    "# set path\n",
    "data_path = \"kaggle/input/deepfake-detection-challenge/train_sample_videos\"\n",
    "save_model_path = \"kaggle/input/single-frame/\"\n",
    "meta_data = \"metadata.json\"\n",
    "\n",
    "res_size = 224        # ResNet image size\n",
    "\n",
    "# training parameters\n",
    "k = 2             # number of target category\n",
    "epochs = 30        # training epochs\n",
    "batch_size = 32\n",
    "learning_rate = 1e-3\n",
    "log_interval = 10   # interval for displaying training info"
   ]
  },
  {
   "cell_type": "code",
   "execution_count": 37,
   "metadata": {},
   "outputs": [],
   "source": [
    "def get_X(data_folder, valid=False):\n",
    "    X = []\n",
    "    y = []\n",
    "    videos = os.listdir(data_folder)\n",
    "    if valid:\n",
    "         with open(os.path.join(data_folder, meta_data)) as json_file:\n",
    "            label_data = json.load(json_file)\n",
    "    for v in videos:\n",
    "        if v.endswith('mp4'):\n",
    "            X.append(os.path.join(data_folder, v))\n",
    "            if valid:\n",
    "                if label_data[v]['label'] == 'FAKE':\n",
    "                    y.append(1)\n",
    "                else:\n",
    "                    y.append(0)\n",
    "    return X, y"
   ]
  },
  {
   "cell_type": "code",
   "execution_count": 5,
   "metadata": {},
   "outputs": [],
   "source": [
    "videos = os.listdir(data_path)"
   ]
  },
  {
   "cell_type": "code",
   "execution_count": 21,
   "metadata": {},
   "outputs": [
    {
     "data": {
      "text/plain": [
       "'rvvpazsffd.mp4'"
      ]
     },
     "execution_count": 21,
     "metadata": {},
     "output_type": "execute_result"
    }
   ],
   "source": [
    "videos[0]"
   ]
  },
  {
   "cell_type": "code",
   "execution_count": 22,
   "metadata": {},
   "outputs": [],
   "source": [
    "results = videos[0].endswith('mp4')"
   ]
  },
  {
   "cell_type": "code",
   "execution_count": 23,
   "metadata": {},
   "outputs": [
    {
     "data": {
      "text/plain": [
       "True"
      ]
     },
     "execution_count": 23,
     "metadata": {},
     "output_type": "execute_result"
    }
   ],
   "source": [
    "results"
   ]
  },
  {
   "cell_type": "code",
   "execution_count": 13,
   "metadata": {},
   "outputs": [],
   "source": [
    "if False:\n",
    "    with open(os.path.join(data_path, meta_data)) as json_file:\n",
    "        label_data = json.load(json_file)"
   ]
  },
  {
   "cell_type": "code",
   "execution_count": 19,
   "metadata": {},
   "outputs": [],
   "source": [
    "with open(os.path.join(data_path, meta_data)) as json_file:\n",
    "    label_data = json.load(json_file)"
   ]
  },
  {
   "cell_type": "code",
   "execution_count": 24,
   "metadata": {},
   "outputs": [
    {
     "data": {
      "text/plain": [
       "{'label': 'FAKE', 'split': 'train', 'original': 'vudstovrck.mp4'}"
      ]
     },
     "execution_count": 24,
     "metadata": {},
     "output_type": "execute_result"
    }
   ],
   "source": [
    "label_data['aagfhgtpmv.mp4']"
   ]
  },
  {
   "cell_type": "code",
   "execution_count": 98,
   "metadata": {},
   "outputs": [],
   "source": [
    "data_folder = data_path\n",
    "valid = False\n",
    "X = []\n",
    "y = []\n",
    "videos = os.listdir(data_folder)\n",
    "if valid:\n",
    "     with open(os.path.join(data_folder, meta_data)) as json_file:\n",
    "        label_data = json.load(json_file)\n",
    "for v in videos:\n",
    "    if v.endswith('mp4'):\n",
    "        X.append(os.path.join(data_folder, v))\n",
    "        if label_data[v]['label'] == 'FAKE':\n",
    "            y.append(1)\n",
    "        else:\n",
    "            y.append(0)"
   ]
  },
  {
   "cell_type": "code",
   "execution_count": 97,
   "metadata": {},
   "outputs": [
    {
     "data": {
      "text/plain": [
       "'train'"
      ]
     },
     "execution_count": 97,
     "metadata": {},
     "output_type": "execute_result"
    }
   ],
   "source": [
    "label_data['aagfhgtpmv.mp4']['split']"
   ]
  },
  {
   "cell_type": "code",
   "execution_count": 39,
   "metadata": {},
   "outputs": [],
   "source": [
    "train_X, train_y = get_X(data_path, valid=True)"
   ]
  },
  {
   "cell_type": "code",
   "execution_count": 41,
   "metadata": {},
   "outputs": [],
   "source": [
    "# Detect devices\n",
    "use_cuda = torch.cuda.is_available()                   # check if GPU exists\n",
    "device = torch.device(\"cuda\" if use_cuda else \"cpu\")   # use CPU or GPU\n",
    "\n",
    "# Data loading parameters\n",
    "params = {'batch_size': batch_size, 'shuffle': True, 'pin_memory': True} if use_cuda else {}\n",
    "\n"
   ]
  },
  {
   "cell_type": "code",
   "execution_count": 42,
   "metadata": {},
   "outputs": [
    {
     "data": {
      "text/plain": [
       "{'batch_size': 32, 'shuffle': True, 'pin_memory': True}"
      ]
     },
     "execution_count": 42,
     "metadata": {},
     "output_type": "execute_result"
    }
   ],
   "source": [
    "params"
   ]
  },
  {
   "cell_type": "code",
   "execution_count": 43,
   "metadata": {},
   "outputs": [
    {
     "data": {
      "text/plain": [
       "True"
      ]
     },
     "execution_count": 43,
     "metadata": {},
     "output_type": "execute_result"
    }
   ],
   "source": [
    "use_cuda"
   ]
  },
  {
   "cell_type": "code",
   "execution_count": 44,
   "metadata": {},
   "outputs": [
    {
     "data": {
      "text/plain": [
       "device(type='cuda')"
      ]
     },
     "execution_count": 44,
     "metadata": {},
     "output_type": "execute_result"
    }
   ],
   "source": [
    "device"
   ]
  },
  {
   "cell_type": "code",
   "execution_count": 45,
   "metadata": {},
   "outputs": [
    {
     "data": {
      "text/plain": [
       "<function torchvision.models.resnet.resnet50(pretrained=False, progress=True, **kwargs)>"
      ]
     },
     "execution_count": 45,
     "metadata": {},
     "output_type": "execute_result"
    }
   ],
   "source": [
    "models.resnet50"
   ]
  },
  {
   "cell_type": "code",
   "execution_count": 49,
   "metadata": {},
   "outputs": [],
   "source": [
    "resnet50 = models.resnet50()"
   ]
  },
  {
   "cell_type": "code",
   "execution_count": null,
   "metadata": {},
   "outputs": [],
   "source": [
    "dir(resnet50)"
   ]
  },
  {
   "cell_type": "code",
   "execution_count": 54,
   "metadata": {},
   "outputs": [],
   "source": [
    "from torchsummary import summary"
   ]
  },
  {
   "cell_type": "code",
   "execution_count": 53,
   "metadata": {},
   "outputs": [
    {
     "name": "stdout",
     "output_type": "stream",
     "text": [
      "Collecting torchsummary\n",
      "  Using cached https://files.pythonhosted.org/packages/7d/18/1474d06f721b86e6a9b9d7392ad68bed711a02f3b61ac43f13c719db50a6/torchsummary-1.5.1-py3-none-any.whl\n",
      "Installing collected packages: torchsummary\n",
      "Successfully installed torchsummary-1.5.1\n",
      "\u001b[33mYou are using pip version 19.0.2, however version 19.3.1 is available.\n",
      "You should consider upgrading via the 'pip install --upgrade pip' command.\u001b[0m\n"
     ]
    }
   ],
   "source": [
    "!pip3 install torchsummary --user"
   ]
  },
  {
   "cell_type": "code",
   "execution_count": 58,
   "metadata": {},
   "outputs": [
    {
     "data": {
      "text/plain": [
       "<All keys matched successfully>"
      ]
     },
     "execution_count": 58,
     "metadata": {},
     "output_type": "execute_result"
    }
   ],
   "source": [
    "# Create model\n",
    "model_ft = models.resnet18()\n",
    "num_ftrs = model_ft.fc.in_features\n",
    "model_ft.fc = nn.Linear(num_ftrs, 2)\n",
    "model_ft = model_ft.to(device)\n",
    "#Load model\n",
    "encoder_model_path = os.path.join(save_model_path, 'cnn_encoder_epoch1.pth')\n",
    "model_ft.load_state_dict(torch.load(encoder_model_path))"
   ]
  },
  {
   "cell_type": "code",
   "execution_count": 59,
   "metadata": {},
   "outputs": [
    {
     "name": "stdout",
     "output_type": "stream",
     "text": [
      "Help on function summary in module torchsummary.torchsummary:\n",
      "\n",
      "summary(model, input_size, batch_size=-1, device='cuda')\n",
      "\n"
     ]
    }
   ],
   "source": [
    "help(summary)"
   ]
  },
  {
   "cell_type": "code",
   "execution_count": null,
   "metadata": {},
   "outputs": [],
   "source": [
    "summary(model_ft, (3, 224, 224))"
   ]
  },
  {
   "cell_type": "code",
   "execution_count": 70,
   "metadata": {},
   "outputs": [],
   "source": [
    "class FrameDataset(Dataset):\n",
    "    \"\"\"Dataset Class for Loading Video\"\"\"\n",
    "\n",
    "    def __init__(self, files, labels, num_frames, transform=None, test=False):\n",
    "        \"\"\"\n",
    "        \"\"\"\n",
    "        self.files = files\n",
    "        self.labels  = labels\n",
    "        self.num_frames = num_frames\n",
    "        self.max_num_frames = 60\n",
    "        self.transform = transform\n",
    "        self.test = test\n",
    "        self.frame_no = num_frames\n",
    "        self.face_cascade = cv2.CascadeClassifier('kaggle/input/single-frame/haarcascade_frontalface_default.xml')\n",
    "\n",
    "    def face_detect(self, frame):\n",
    "        gray = cv2.cvtColor(frame, cv2.COLOR_BGR2GRAY)\n",
    "        # Resize frame of video to 1/4 size for faster face detection processing\n",
    "        small_frame = cv2.resize(gray, (0, 0), fx=0.25, fy=0.25)\n",
    "        # Detect the faces\n",
    "        faces = self.face_cascade.detectMultiScale(small_frame, 1.1, 4)\n",
    "        return faces\n",
    "\n",
    "\n",
    "    def __len__(self):\n",
    "        return len(self.files)\n",
    "\n",
    "\n",
    "    def readVideo(self, videoFile):\n",
    "\n",
    "        # Load the cascade\n",
    "\n",
    "        # Open the video file\n",
    "        cap = cv2.VideoCapture(videoFile)\n",
    "        # cap.set(1, self.frame_no)\n",
    "        # nFrames = int(cap.get(cv2.CAP_PROP_FRAME_COUNT))\n",
    "        # frames = torch.FloatTensor(self.channels, self.timeDepth, self.xSize, self.ySize)\n",
    "\n",
    "        attempts = 0\n",
    "        while attempts < self.max_num_frames:\n",
    "            ret, frame = cap.read()\n",
    "            attempts += 1\n",
    "            if ret:\n",
    "                last_good_frame = frame\n",
    "                try:\n",
    "                    faces = self.face_detect(frame)\n",
    "                    # Face detected\n",
    "                    if len(faces) > 0:\n",
    "                        # Get the face, if more than two, use the whole frame\n",
    "                        if len(faces) > 1:\n",
    "                            break\n",
    "                        x, y, w, h = faces[0] * 4\n",
    "                        face_img = frame[y: y + h, x: x + w]\n",
    "                        frame = torch.from_numpy(face_img)\n",
    "                        # HWC2CHW\n",
    "                        frame = frame.permute(2, 0, 1)\n",
    "                        if self.transform is not None:\n",
    "                            frame = t_F.to_pil_image(frame)\n",
    "                            frame = self.transform(frame)\n",
    "                            cap.release()\n",
    "                            return frame\n",
    "                except:\n",
    "                    print(\"Face detection error\")\n",
    "            else:\n",
    "                break\n",
    "\n",
    "        frame = torch.from_numpy(last_good_frame)\n",
    "        # HWC2CHW\n",
    "        frame = frame.permute(2, 0, 1)\n",
    "        if self.transform is not None:\n",
    "            frame = t_F.to_pil_image(frame)\n",
    "            frame = self.transform(frame)\n",
    "        cap.release()\n",
    "        return frame\n",
    "\n",
    "    def __getitem__(self, index):\n",
    "\n",
    "        file = self.files[index]\n",
    "        X = self.readVideo(file)\n",
    "        if self.test:\n",
    "            y = self.labels[index]\n",
    "        else:\n",
    "            y = torch.LongTensor([self.labels[index]])  # (labels) LongTensor are for int64 instead of FloatTensor\n",
    "\n",
    "        return X, y"
   ]
  },
  {
   "cell_type": "code",
   "execution_count": 71,
   "metadata": {},
   "outputs": [],
   "source": [
    "# Detect devices\n",
    "use_cuda = torch.cuda.is_available()                   # check if GPU exists\n",
    "device = torch.device(\"cuda\" if use_cuda else \"cpu\")   # use CPU or GPU\n",
    "\n",
    "# Data loading parameters\n",
    "params = {'batch_size': batch_size, 'shuffle': True, 'pin_memory': True} if use_cuda else {}\n",
    "\n",
    "train_X, train_y = get_X(data_path, valid=True)"
   ]
  },
  {
   "cell_type": "code",
   "execution_count": null,
   "metadata": {},
   "outputs": [],
   "source": [
    "print(train_X, train_y)"
   ]
  },
  {
   "cell_type": "code",
   "execution_count": 86,
   "metadata": {},
   "outputs": [],
   "source": [
    "transform = transforms.Compose([transforms.Resize([res_size, res_size]),\n",
    "                                transforms.ToTensor(),\n",
    "                                transforms.Normalize(mean=[0.485, 0.456, 0.406], std=[0.229, 0.224, 0.225])])\n",
    "\n",
    "# selected_frames = np.arange(begin_frame, end_frame, skip_frame).tolist()\n",
    "num_frames = 60\n",
    "\n",
    "train_set = FrameDataset(train_X, train_y, num_frames, transform=transform)\n",
    "train_loader = data.DataLoader(train_set, **params)"
   ]
  },
  {
   "cell_type": "code",
   "execution_count": 74,
   "metadata": {},
   "outputs": [
    {
     "data": {
      "text/plain": [
       "__main__.FrameDataset"
      ]
     },
     "execution_count": 74,
     "metadata": {},
     "output_type": "execute_result"
    }
   ],
   "source": [
    "type(train_set)"
   ]
  },
  {
   "cell_type": "code",
   "execution_count": 102,
   "metadata": {},
   "outputs": [
    {
     "data": {
      "text/plain": [
       "['__add__',\n",
       " '__class__',\n",
       " '__delattr__',\n",
       " '__dict__',\n",
       " '__dir__',\n",
       " '__doc__',\n",
       " '__eq__',\n",
       " '__format__',\n",
       " '__ge__',\n",
       " '__getattribute__',\n",
       " '__getitem__',\n",
       " '__gt__',\n",
       " '__hash__',\n",
       " '__init__',\n",
       " '__init_subclass__',\n",
       " '__le__',\n",
       " '__len__',\n",
       " '__lt__',\n",
       " '__module__',\n",
       " '__ne__',\n",
       " '__new__',\n",
       " '__reduce__',\n",
       " '__reduce_ex__',\n",
       " '__repr__',\n",
       " '__setattr__',\n",
       " '__sizeof__',\n",
       " '__str__',\n",
       " '__subclasshook__',\n",
       " '__weakref__',\n",
       " 'face_cascade',\n",
       " 'face_detect',\n",
       " 'files',\n",
       " 'frame_no',\n",
       " 'labels',\n",
       " 'max_num_frames',\n",
       " 'num_frames',\n",
       " 'readVideo',\n",
       " 'test',\n",
       " 'transform']"
      ]
     },
     "execution_count": 102,
     "metadata": {},
     "output_type": "execute_result"
    }
   ],
   "source": [
    "dir(train_set)"
   ]
  },
  {
   "cell_type": "code",
   "execution_count": 88,
   "metadata": {},
   "outputs": [
    {
     "data": {
      "text/plain": [
       "Compose(\n",
       "    Resize(size=[224, 224], interpolation=PIL.Image.BILINEAR)\n",
       "    ToTensor()\n",
       "    Normalize(mean=[0.485, 0.456, 0.406], std=[0.229, 0.224, 0.225])\n",
       ")"
      ]
     },
     "execution_count": 88,
     "metadata": {},
     "output_type": "execute_result"
    }
   ],
   "source": [
    "train_set.transform"
   ]
  },
  {
   "cell_type": "code",
   "execution_count": 106,
   "metadata": {},
   "outputs": [
    {
     "data": {
      "text/plain": [
       "60"
      ]
     },
     "execution_count": 106,
     "metadata": {},
     "output_type": "execute_result"
    }
   ],
   "source": [
    "train_set.frame_no"
   ]
  },
  {
   "cell_type": "code",
   "execution_count": 118,
   "metadata": {},
   "outputs": [
    {
     "data": {
      "text/plain": [
       "torch.Size([3, 224, 224])"
      ]
     },
     "execution_count": 118,
     "metadata": {},
     "output_type": "execute_result"
    }
   ],
   "source": [
    "train_set.__getitem__(0)[0].shape"
   ]
  },
  {
   "cell_type": "code",
   "execution_count": 119,
   "metadata": {},
   "outputs": [
    {
     "data": {
      "text/plain": [
       "tensor([1])"
      ]
     },
     "execution_count": 119,
     "metadata": {},
     "output_type": "execute_result"
    }
   ],
   "source": [
    "train_set.__getitem__(0)[1]"
   ]
  },
  {
   "cell_type": "code",
   "execution_count": null,
   "metadata": {},
   "outputs": [],
   "source": []
  }
 ],
 "metadata": {
  "kernelspec": {
   "display_name": "conda_pytorch_p36",
   "language": "python",
   "name": "conda_pytorch_p36"
  },
  "language_info": {
   "codemirror_mode": {
    "name": "ipython",
    "version": 3
   },
   "file_extension": ".py",
   "mimetype": "text/x-python",
   "name": "python",
   "nbconvert_exporter": "python",
   "pygments_lexer": "ipython3",
   "version": "3.6.5"
  }
 },
 "nbformat": 4,
 "nbformat_minor": 4
}
